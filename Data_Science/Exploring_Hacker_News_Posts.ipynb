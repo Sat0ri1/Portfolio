{
  "nbformat": 4,
  "nbformat_minor": 0,
  "metadata": {
    "colab": {
      "provenance": []
    },
    "kernelspec": {
      "name": "python3",
      "display_name": "Python 3"
    },
    "language_info": {
      "name": "python"
    }
  },
  "cells": [
    {
      "cell_type": "markdown",
      "metadata": {
        "id": "wO0pF5mbtP9l"
      },
      "source": [
        "### Exploring Hacker News Posts\n",
        "This project brings the following skills together for some real-world practice:\n",
        "\n",
        "* How to work with strings\n",
        "* Object-oriented programming\n",
        "* Dates and times"
      ]
    },
    {
      "cell_type": "markdown",
      "metadata": {
        "id": "YRVJTYQGtdSi"
      },
      "source": [
        "#### Introduction"
      ]
    },
    {
      "cell_type": "code",
      "execution_count": null,
      "metadata": {
        "colab": {
          "base_uri": "https://localhost:8080/"
        },
        "id": "FPCb2aS2tSGZ",
        "outputId": "b1e96a00-d856-41ae-84c9-3fa873a82828"
      },
      "outputs": [
        {
          "output_type": "execute_result",
          "data": {
            "text/plain": [
              "[['id', 'title', 'url', 'num_points', 'num_comments', 'author', 'created_at'],\n",
              " ['12224879',\n",
              "  'Interactive Dynamic Video',\n",
              "  'http://www.interactivedynamicvideo.com/',\n",
              "  '386',\n",
              "  '52',\n",
              "  'ne0phyte',\n",
              "  '8/4/2016 11:52'],\n",
              " ['10975351',\n",
              "  'How to Use Open Source and Shut the Fuck Up at the Same Time',\n",
              "  'http://hueniverse.com/2016/01/26/how-to-use-open-source-and-shut-the-fuck-up-at-the-same-time/',\n",
              "  '39',\n",
              "  '10',\n",
              "  'josep2',\n",
              "  '1/26/2016 19:30'],\n",
              " ['11964716',\n",
              "  \"Florida DJs May Face Felony for April Fools' Water Joke\",\n",
              "  'http://www.thewire.com/entertainment/2013/04/florida-djs-april-fools-water-joke/63798/',\n",
              "  '2',\n",
              "  '1',\n",
              "  'vezycash',\n",
              "  '6/23/2016 22:20'],\n",
              " ['11919867',\n",
              "  'Technology ventures: From Idea to Enterprise',\n",
              "  'https://www.amazon.com/Technology-Ventures-Enterprise-Thomas-Byers/dp/0073523429',\n",
              "  '3',\n",
              "  '1',\n",
              "  'hswarna',\n",
              "  '6/17/2016 0:01']]"
            ]
          },
          "metadata": {},
          "execution_count": 56
        }
      ],
      "source": [
        "import csv\n",
        "\n",
        "import urllib.request\n",
        "\n",
        "hacker_url = 'https://dq-content.s3.amazonaws.com/356/hacker_news.csv'\n",
        "\n",
        "hacker_data = 'hacker_news.csv'\n",
        "\n",
        "urllib.request.urlretrieve(hacker_url, hacker_data)\n",
        "\n",
        "f = open('hacker_news.csv')\n",
        "hn = list(csv.reader(f))\n",
        "hn[:5]"
      ]
    },
    {
      "cell_type": "markdown",
      "metadata": {
        "id": "E5Xy4VLvtc5k"
      },
      "source": [
        "#### Removing Headers from a List of Lists"
      ]
    },
    {
      "cell_type": "code",
      "execution_count": null,
      "metadata": {
        "colab": {
          "base_uri": "https://localhost:8080/"
        },
        "id": "fj5RI618toHn",
        "outputId": "cfc863a6-ff19-40a5-8ec8-6158946bb515"
      },
      "outputs": [
        {
          "output_type": "stream",
          "name": "stdout",
          "text": [
            "HEADERS: \n",
            " ['id', 'title', 'url', 'num_points', 'num_comments', 'author', 'created_at'] \n",
            "\n",
            "BODY: \n",
            " [['12224879', 'Interactive Dynamic Video', 'http://www.interactivedynamicvideo.com/', '386', '52', 'ne0phyte', '8/4/2016 11:52'], ['10975351', 'How to Use Open Source and Shut the Fuck Up at the Same Time', 'http://hueniverse.com/2016/01/26/how-to-use-open-source-and-shut-the-fuck-up-at-the-same-time/', '39', '10', 'josep2', '1/26/2016 19:30'], ['11964716', \"Florida DJs May Face Felony for April Fools' Water Joke\", 'http://www.thewire.com/entertainment/2013/04/florida-djs-april-fools-water-joke/63798/', '2', '1', 'vezycash', '6/23/2016 22:20'], ['11919867', 'Technology ventures: From Idea to Enterprise', 'https://www.amazon.com/Technology-Ventures-Enterprise-Thomas-Byers/dp/0073523429', '3', '1', 'hswarna', '6/17/2016 0:01'], ['10301696', 'Note by Note: The Making of Steinway L1037 (2007)', 'http://www.nytimes.com/2007/11/07/movies/07stein.html?_r=0', '8', '2', 'walterbell', '9/30/2015 4:12']]\n"
          ]
        }
      ],
      "source": [
        "headers = hn[0]\n",
        "del hn[0]\n",
        "print(\"HEADERS: \\n\", headers, \"\\n\")\n",
        "print(\"BODY: \\n\", hn[0:5])"
      ]
    },
    {
      "cell_type": "markdown",
      "metadata": {
        "id": "o1ttaHAxud7x"
      },
      "source": [
        "#### Extracting Ask HN and Show HN Posts"
      ]
    },
    {
      "cell_type": "code",
      "execution_count": null,
      "metadata": {
        "colab": {
          "base_uri": "https://localhost:8080/"
        },
        "id": "wf99drd4uYRB",
        "outputId": "2168e38e-16ac-461c-af71-cced2392cbd3"
      },
      "outputs": [
        {
          "output_type": "stream",
          "name": "stdout",
          "text": [
            "1744\n",
            "1162\n",
            "17194\n"
          ]
        }
      ],
      "source": [
        "ask_posts = []\n",
        "show_posts = []\n",
        "other_posts = []\n",
        "\n",
        "for i in hn:\n",
        "    title = i[1]\n",
        "    if title.lower().startswith(\"ask hn\"):\n",
        "        ask_posts.append(i)\n",
        "    elif title.lower().startswith(\"show hn\"):\n",
        "        show_posts.append(i)\n",
        "    else:\n",
        "        other_posts.append(i)\n",
        "\n",
        "print(len(ask_posts))\n",
        "print(len(show_posts))\n",
        "print(len(other_posts))"
      ]
    },
    {
      "cell_type": "markdown",
      "metadata": {
        "id": "P-QGROWLudaF"
      },
      "source": [
        "#### Calculating the Average Number of Comments for Ask HN and Show HN Posts"
      ]
    },
    {
      "cell_type": "code",
      "execution_count": null,
      "metadata": {
        "colab": {
          "base_uri": "https://localhost:8080/"
        },
        "id": "egYJHeNnumwz",
        "outputId": "47173ea6-8a4e-4824-c69f-952f2d3ac48f"
      },
      "outputs": [
        {
          "output_type": "stream",
          "name": "stdout",
          "text": [
            "14.038417431192661\n"
          ]
        }
      ],
      "source": [
        "total_ask_comments = 0\n",
        "\n",
        "for i in ask_posts:\n",
        "    total_ask_comments += int(i[4])\n",
        "\n",
        "avg_ask_comments = total_ask_comments / len(ask_posts)\n",
        "print(avg_ask_comments)"
      ]
    },
    {
      "cell_type": "code",
      "execution_count": null,
      "metadata": {
        "colab": {
          "base_uri": "https://localhost:8080/"
        },
        "id": "1dmfSaCXuoeG",
        "outputId": "05e1c7cc-15a3-49a2-93f4-a2ffc87210d1"
      },
      "outputs": [
        {
          "output_type": "stream",
          "name": "stdout",
          "text": [
            "10.31669535283993\n"
          ]
        }
      ],
      "source": [
        "total_show_comments = 0\n",
        "\n",
        "for i in show_posts:\n",
        "    total_show_comments += int(i[4])\n",
        "\n",
        "avg_show_comments = total_show_comments / len(show_posts)\n",
        "print(avg_show_comments)"
      ]
    },
    {
      "cell_type": "markdown",
      "metadata": {
        "id": "icpmVdJMusX2"
      },
      "source": [
        "Ask posts recieve 14 comments on average while show posts recieve 10 comments on average. It seems like ask posts are more likely to reveive a comment."
      ]
    },
    {
      "cell_type": "markdown",
      "metadata": {
        "id": "V_cnxPVjuvFv"
      },
      "source": [
        "#### Finding the Number of Ask Posts and Comments by Hour Created"
      ]
    },
    {
      "cell_type": "code",
      "execution_count": null,
      "metadata": {
        "colab": {
          "base_uri": "https://localhost:8080/"
        },
        "id": "y0dRYfm5uqbI",
        "outputId": "7a28bf3e-38f0-43a7-af59-41b658292292"
      },
      "outputs": [
        {
          "output_type": "execute_result",
          "data": {
            "text/plain": [
              "{'09': 251,\n",
              " '13': 1253,\n",
              " '10': 793,\n",
              " '14': 1416,\n",
              " '16': 1814,\n",
              " '23': 543,\n",
              " '12': 687,\n",
              " '17': 1146,\n",
              " '15': 4477,\n",
              " '21': 1745,\n",
              " '20': 1722,\n",
              " '02': 1381,\n",
              " '18': 1439,\n",
              " '03': 421,\n",
              " '05': 464,\n",
              " '19': 1188,\n",
              " '01': 683,\n",
              " '22': 479,\n",
              " '08': 492,\n",
              " '04': 337,\n",
              " '00': 447,\n",
              " '06': 397,\n",
              " '07': 267,\n",
              " '11': 641}"
            ]
          },
          "metadata": {},
          "execution_count": 61
        }
      ],
      "source": [
        "import datetime as dt\n",
        "\n",
        "result_list = []\n",
        "\n",
        "for i in ask_posts:\n",
        "    result_list.append([i[6], int(i[4])])\n",
        "\n",
        "comments_by_hour = {}\n",
        "counts_by_hour = {}\n",
        "\n",
        "date_format = \"%m/%d/%Y %H:%M\"\n",
        "\n",
        "for j in result_list:\n",
        "    date = j[0]\n",
        "    comment = j[1]\n",
        "    time = dt.datetime.strptime(date, date_format).strftime(\"%H\")\n",
        "    if time not in counts_by_hour:\n",
        "        comments_by_hour[time] = comment\n",
        "        counts_by_hour[time] = 1\n",
        "    else:\n",
        "        comments_by_hour[time] += comment\n",
        "        counts_by_hour[time] += 1\n",
        "\n",
        "comments_by_hour"
      ]
    },
    {
      "cell_type": "markdown",
      "metadata": {
        "id": "bPNX03Xwu0Mq"
      },
      "source": [
        "#### Calculating the Average Number of Comments for Ask HN Posts by Hour"
      ]
    },
    {
      "cell_type": "code",
      "execution_count": null,
      "metadata": {
        "colab": {
          "base_uri": "https://localhost:8080/"
        },
        "id": "nJ2mKFV2ux5R",
        "outputId": "187b6957-6271-4f59-8146-197748b8d61a"
      },
      "outputs": [
        {
          "output_type": "execute_result",
          "data": {
            "text/plain": [
              "[['09', 5.5777777777777775],\n",
              " ['13', 14.741176470588234],\n",
              " ['10', 13.440677966101696],\n",
              " ['14', 13.233644859813085],\n",
              " ['16', 16.796296296296298],\n",
              " ['23', 7.985294117647059],\n",
              " ['12', 9.41095890410959],\n",
              " ['17', 11.46],\n",
              " ['15', 38.5948275862069],\n",
              " ['21', 16.009174311926607],\n",
              " ['20', 21.525],\n",
              " ['02', 23.810344827586206],\n",
              " ['18', 13.20183486238532],\n",
              " ['03', 7.796296296296297],\n",
              " ['05', 10.08695652173913],\n",
              " ['19', 10.8],\n",
              " ['01', 11.383333333333333],\n",
              " ['22', 6.746478873239437],\n",
              " ['08', 10.25],\n",
              " ['04', 7.170212765957447],\n",
              " ['00', 8.127272727272727],\n",
              " ['06', 9.022727272727273],\n",
              " ['07', 7.852941176470588],\n",
              " ['11', 11.051724137931034]]"
            ]
          },
          "metadata": {},
          "execution_count": 62
        }
      ],
      "source": [
        "avg_by_hour = []\n",
        "\n",
        "for i in comments_by_hour:\n",
        "    avg_by_hour.append([i, comments_by_hour[i] / counts_by_hour[i]])\n",
        "\n",
        "avg_by_hour"
      ]
    },
    {
      "cell_type": "markdown",
      "metadata": {
        "id": "GNjhm6dKu5cQ"
      },
      "source": [
        "#### Sorting and Printing Values from a List of Lists"
      ]
    },
    {
      "cell_type": "code",
      "execution_count": null,
      "metadata": {
        "colab": {
          "base_uri": "https://localhost:8080/"
        },
        "id": "TPrPOkJzu24H",
        "outputId": "0307baaa-0a04-4e14-d9f2-1dc984572dea"
      },
      "outputs": [
        {
          "output_type": "stream",
          "name": "stdout",
          "text": [
            "[[5.5777777777777775, '09'], [14.741176470588234, '13'], [13.440677966101696, '10'], [13.233644859813085, '14'], [16.796296296296298, '16'], [7.985294117647059, '23'], [9.41095890410959, '12'], [11.46, '17'], [38.5948275862069, '15'], [16.009174311926607, '21'], [21.525, '20'], [23.810344827586206, '02'], [13.20183486238532, '18'], [7.796296296296297, '03'], [10.08695652173913, '05'], [10.8, '19'], [11.383333333333333, '01'], [6.746478873239437, '22'], [10.25, '08'], [7.170212765957447, '04'], [8.127272727272727, '00'], [9.022727272727273, '06'], [7.852941176470588, '07'], [11.051724137931034, '11']]\n"
          ]
        }
      ],
      "source": [
        "swap_avg_by_hour = []\n",
        "\n",
        "for i in avg_by_hour:\n",
        "    swap_avg_by_hour.append([i[1], i[0]])\n",
        "\n",
        "print(swap_avg_by_hour)\n",
        "\n",
        "sorted_swap = sorted(swap_avg_by_hour, reverse=True)"
      ]
    },
    {
      "cell_type": "code",
      "execution_count": null,
      "metadata": {
        "colab": {
          "base_uri": "https://localhost:8080/"
        },
        "id": "lIPGOo6uu7-B",
        "outputId": "37af9867-b7bc-4333-d860-a7edc9c1c099"
      },
      "outputs": [
        {
          "output_type": "stream",
          "name": "stdout",
          "text": [
            "Top 5 Hours for 'Ask HN' Comments: \n",
            "\n",
            "1. 15:00: 38.59 average comments per post\n",
            "2. 02:00: 23.81 average comments per post\n",
            "3. 20:00: 21.52 average comments per post\n",
            "4. 16:00: 16.80 average comments per post\n",
            "5. 21:00: 16.01 average comments per post\n"
          ]
        }
      ],
      "source": [
        "#/w little addition to make ranked hours more clear to read\n",
        "\n",
        "print(\"Top 5 Hours for 'Ask HN' Comments: \\n\")\n",
        "i=0\n",
        "for avg, hr in sorted_swap[:5]:\n",
        "    i += 1\n",
        "    print(\"{}. {}: {:.2f} average comments per post\".format(i,dt.datetime.strptime(hr, \"%H\").strftime(\"%H:%M\"),avg))"
      ]
    },
    {
      "cell_type": "markdown",
      "metadata": {
        "id": "dhoCtIUfvCWn"
      },
      "source": [
        "As visible above, the best hour to post if user wants to get as much comments as possible is 15:00. The difference between first and secound place is pretty high, therefore it is worth to post at 15:00."
      ]
    }
  ]
}
