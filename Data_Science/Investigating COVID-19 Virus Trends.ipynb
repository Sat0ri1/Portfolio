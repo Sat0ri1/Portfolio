{
  "nbformat": 4,
  "nbformat_minor": 0,
  "metadata": {
    "colab": {
      "provenance": []
    },
    "kernelspec": {
      "name": "python3",
      "display_name": "Python 3"
    },
    "language_info": {
      "name": "python"
    }
  },
  "cells": [
    {
      "cell_type": "markdown",
      "source": [
        "### Investigating COVID-19 Virus Trends"
      ],
      "metadata": {
        "id": "MVkCjkRk6Xe3"
      }
    },
    {
      "cell_type": "markdown",
      "source": [
        "#### Guided Project Introduction"
      ],
      "metadata": {
        "id": "dfr6VcxyTqLM"
      }
    },
    {
      "cell_type": "markdown",
      "source": [
        "The purpose of this Guided Project is to build our skills and understanding of the data analysis workflow by evaluating the COVID-19 situation through this dataset.\n",
        "\n",
        "We will try to answer the question:  Which countries have reported the highest number of positive cases in relation to the number of tests conducted?"
      ],
      "metadata": {
        "id": "HEmqduxST25N"
      }
    },
    {
      "cell_type": "markdown",
      "source": [
        "#### Understanding the Data"
      ],
      "metadata": {
        "id": "z0Hq8HItUGzb"
      }
    },
    {
      "cell_type": "code",
      "source": [
        "%load_ext rpy2.ipython"
      ],
      "metadata": {
        "id": "T6LNpkAK5tKA"
      },
      "execution_count": null,
      "outputs": []
    },
    {
      "cell_type": "code",
      "source": [
        "%%R\n",
        "library(\"tidyverse\")"
      ],
      "metadata": {
        "colab": {
          "base_uri": "https://localhost:8080/"
        },
        "id": "rdxZTa5dSqzi",
        "outputId": "e0e70cce-f366-41be-e01a-680005af3489"
      },
      "execution_count": null,
      "outputs": [
        {
          "output_type": "stream",
          "name": "stdout",
          "text": [
            "── Attaching core tidyverse packages ──────────────────────── tidyverse 2.0.0 ──\n",
            "✔ dplyr     1.1.4     ✔ readr     2.1.4\n",
            "✔ forcats   1.0.0     ✔ stringr   1.5.1\n",
            "✔ ggplot2   3.4.4     ✔ tibble    3.2.1\n",
            "✔ lubridate 1.9.3     ✔ tidyr     1.3.0\n",
            "✔ purrr     1.0.2     \n",
            "── Conflicts ────────────────────────────────────────── tidyverse_conflicts() ──\n",
            "✖ dplyr::filter() masks stats::filter()\n",
            "✖ dplyr::lag()    masks stats::lag()\n",
            "ℹ Use the conflicted package (<http://conflicted.r-lib.org/>) to force all conflicts to become errors\n"
          ]
        }
      ]
    },
    {
      "cell_type": "code",
      "source": [
        "%%R\n",
        "# Downloading\n",
        "covid_df <- read.csv(\"https://raw.githubusercontent.com/Sat0ri1/MojeRep_PG/main/covid19.csv\")"
      ],
      "metadata": {
        "id": "g76HuOkaSsio"
      },
      "execution_count": null,
      "outputs": []
    },
    {
      "cell_type": "code",
      "source": [
        "%%R\n",
        "# Printing dimension\n",
        "dim(covid_df)"
      ],
      "metadata": {
        "colab": {
          "base_uri": "https://localhost:8080/"
        },
        "id": "wjBuhA0ZSu5e",
        "outputId": "1700282d-e3d2-4fed-8ff4-3ff9c57e3791"
      },
      "execution_count": null,
      "outputs": [
        {
          "output_type": "stream",
          "name": "stdout",
          "text": [
            "[1] 10903    14\n"
          ]
        }
      ]
    },
    {
      "cell_type": "code",
      "source": [
        "%%R\n",
        "# Printing col names\n",
        "colnames(covid_df)"
      ],
      "metadata": {
        "colab": {
          "base_uri": "https://localhost:8080/"
        },
        "id": "OFIn8S68S0M1",
        "outputId": "2578eafe-3734-444c-e07a-ab87080c6ecd"
      },
      "execution_count": null,
      "outputs": [
        {
          "output_type": "stream",
          "name": "stdout",
          "text": [
            " [1] \"Date\"                    \"Continent_Name\"         \n",
            " [3] \"Two_Letter_Country_Code\" \"Country_Region\"         \n",
            " [5] \"Province_State\"          \"positive\"               \n",
            " [7] \"hospitalized\"            \"recovered\"              \n",
            " [9] \"death\"                   \"total_tested\"           \n",
            "[11] \"active\"                  \"hospitalizedCurr\"       \n",
            "[13] \"daily_tested\"            \"daily_positive\"         \n"
          ]
        }
      ]
    },
    {
      "cell_type": "code",
      "source": [
        "%%R\n",
        "vector_cols <- colnames(covid_df)\n",
        "typeof(vector_cols)"
      ],
      "metadata": {
        "colab": {
          "base_uri": "https://localhost:8080/"
        },
        "id": "w0BB_DpdS2QR",
        "outputId": "a20a9fc3-ba0d-42f7-8525-07d64c077326"
      },
      "execution_count": null,
      "outputs": [
        {
          "output_type": "stream",
          "name": "stdout",
          "text": [
            "[1] \"character\"\n"
          ]
        }
      ]
    },
    {
      "cell_type": "code",
      "source": [
        "%%R\n",
        "head(covid_df)"
      ],
      "metadata": {
        "colab": {
          "base_uri": "https://localhost:8080/"
        },
        "id": "dZAd1iSdS4Ek",
        "outputId": "f4b71e93-43cc-445a-9906-14cdbc2e0400"
      },
      "execution_count": null,
      "outputs": [
        {
          "output_type": "stream",
          "name": "stdout",
          "text": [
            "        Date Continent_Name Two_Letter_Country_Code Country_Region\n",
            "1 2020-01-20           Asia                      KR    South Korea\n",
            "2 2020-01-22  North America                      US  United States\n",
            "3 2020-01-22  North America                      US  United States\n",
            "4 2020-01-23  North America                      US  United States\n",
            "5 2020-01-23  North America                      US  United States\n",
            "6 2020-01-24           Asia                      KR    South Korea\n",
            "  Province_State positive hospitalized recovered death total_tested active\n",
            "1     All States        1            0         0     0            4      0\n",
            "2     All States        1            0         0     0            1      0\n",
            "3     Washington        1            0         0     0            1      0\n",
            "4     All States        1            0         0     0            1      0\n",
            "5     Washington        1            0         0     0            1      0\n",
            "6     All States        2            0         0     0           27      0\n",
            "  hospitalizedCurr daily_tested daily_positive\n",
            "1                0            0              0\n",
            "2                0            0              0\n",
            "3                0            0              0\n",
            "4                0            0              0\n",
            "5                0            0              0\n",
            "6                0            5              0\n"
          ]
        }
      ]
    },
    {
      "cell_type": "code",
      "source": [
        "%%R\n",
        "library(\"tibble\")"
      ],
      "metadata": {
        "id": "pOzX0RXmS5jq"
      },
      "execution_count": null,
      "outputs": []
    },
    {
      "cell_type": "code",
      "source": [
        "%%R\n",
        "glimpse(covid_df)"
      ],
      "metadata": {
        "colab": {
          "base_uri": "https://localhost:8080/"
        },
        "id": "i1m2h7tnS7OC",
        "outputId": "8c66a101-ff25-4b9a-ce51-6eb8e01870b0"
      },
      "execution_count": null,
      "outputs": [
        {
          "output_type": "stream",
          "name": "stdout",
          "text": [
            "Rows: 10,903\n",
            "Columns: 14\n",
            "$ Date                    <chr> \"2020-01-20\", \"2020-01-22\", \"2020-01-22\", \"202…\n",
            "$ Continent_Name          <chr> \"Asia\", \"North America\", \"North America\", \"Nor…\n",
            "$ Two_Letter_Country_Code <chr> \"KR\", \"US\", \"US\", \"US\", \"US\", \"KR\", \"US\", \"US\"…\n",
            "$ Country_Region          <chr> \"South Korea\", \"United States\", \"United States…\n",
            "$ Province_State          <chr> \"All States\", \"All States\", \"Washington\", \"All…\n",
            "$ positive                <int> 1, 1, 1, 1, 1, 2, 1, 1, 4, 0, 3, 0, 0, 0, 0, 1…\n",
            "$ hospitalized            <int> 0, 0, 0, 0, 0, 0, 0, 0, 0, 0, 0, 0, 0, 0, 0, 0…\n",
            "$ recovered               <int> 0, 0, 0, 0, 0, 0, 0, 0, 0, 0, 0, 0, 0, 0, 0, 0…\n",
            "$ death                   <int> 0, 0, 0, 0, 0, 0, 0, 0, 0, 0, 0, 0, 0, 0, 0, 0…\n",
            "$ total_tested            <int> 4, 1, 1, 1, 1, 27, 1, 1, 0, 0, 0, 0, 0, 0, 0, …\n",
            "$ active                  <int> 0, 0, 0, 0, 0, 0, 0, 0, 0, 0, 0, 0, 0, 0, 0, 0…\n",
            "$ hospitalizedCurr        <int> 0, 0, 0, 0, 0, 0, 0, 0, 0, 0, 0, 0, 0, 0, 0, 0…\n",
            "$ daily_tested            <int> 0, 0, 0, 0, 0, 5, 0, 0, 0, 0, 0, 0, 0, 0, 0, 0…\n",
            "$ daily_positive          <int> 0, 0, 0, 0, 0, 0, 0, 0, 0, 0, 0, 0, 0, 0, 0, 0…\n"
          ]
        }
      ]
    },
    {
      "cell_type": "markdown",
      "source": [
        "We can see that dataset contains 14 columns and 10903 rows.\n",
        "\n",
        "Data structure of the `vector_cols` variable represents a character.\n",
        "\n",
        "\n",
        "The glimpse() allows us to see the columns of the dataset and display some portion of the data with respect to each attribute that can fit on a single line."
      ],
      "metadata": {
        "id": "Zv2EGgIZVeAD"
      }
    },
    {
      "cell_type": "markdown",
      "source": [
        "#### Isolating the Rows We Need"
      ],
      "metadata": {
        "id": "6NVunykFWF1_"
      }
    },
    {
      "cell_type": "markdown",
      "source": [
        "The Province_State column mixes geographical data from different levels: country level and state/province level. Since we cannot run an analysis on all these levels at the same time, we need to filter what we are interested in.  Therefore, we will extract only the country-level data in order to make analysis reliable."
      ],
      "metadata": {
        "id": "H8xdt4bDWQuc"
      }
    },
    {
      "cell_type": "code",
      "source": [
        "%%R\n",
        "# FIltering rows\n",
        "covid_df_all_states <- covid_df %>% filter(Province_State == \"All States\")\n",
        "head(covid_df_all_states)"
      ],
      "metadata": {
        "colab": {
          "base_uri": "https://localhost:8080/"
        },
        "id": "2DCTnHcUS8e-",
        "outputId": "194944e8-26c7-4488-e0ce-cf8ba1654821"
      },
      "execution_count": null,
      "outputs": [
        {
          "output_type": "stream",
          "name": "stdout",
          "text": [
            "        Date Continent_Name Two_Letter_Country_Code Country_Region\n",
            "1 2020-01-20           Asia                      KR    South Korea\n",
            "2 2020-01-22  North America                      US  United States\n",
            "3 2020-01-23  North America                      US  United States\n",
            "4 2020-01-24           Asia                      KR    South Korea\n",
            "5 2020-01-24  North America                      US  United States\n",
            "6 2020-01-25        Oceania                      AU      Australia\n",
            "  Province_State positive hospitalized recovered death total_tested active\n",
            "1     All States        1            0         0     0            4      0\n",
            "2     All States        1            0         0     0            1      0\n",
            "3     All States        1            0         0     0            1      0\n",
            "4     All States        2            0         0     0           27      0\n",
            "5     All States        1            0         0     0            1      0\n",
            "6     All States        4            0         0     0            0      0\n",
            "  hospitalizedCurr daily_tested daily_positive\n",
            "1                0            0              0\n",
            "2                0            0              0\n",
            "3                0            0              0\n",
            "4                0            5              0\n",
            "5                0            0              0\n",
            "6                0            0              0\n"
          ]
        }
      ]
    },
    {
      "cell_type": "markdown",
      "source": [
        "We can safely remove the `Province_State` column because it only contains `All states` after the filtering took place."
      ],
      "metadata": {
        "id": "KTXWOC4rWzpV"
      }
    },
    {
      "cell_type": "code",
      "source": [
        "%%R\n",
        "covid_df <- covid_df %>% select(-Province_State)\n"
      ],
      "metadata": {
        "id": "m1HwIEeFS9xs"
      },
      "execution_count": null,
      "outputs": []
    },
    {
      "cell_type": "markdown",
      "source": [
        "#### Isolating the Columns We Need"
      ],
      "metadata": {
        "id": "G79YPW_sXcvH"
      }
    },
    {
      "cell_type": "code",
      "source": [
        "%%R\n",
        "head(covid_df)"
      ],
      "metadata": {
        "colab": {
          "base_uri": "https://localhost:8080/"
        },
        "id": "1t9kFwSYS__6",
        "outputId": "7e381d95-105f-41a3-a605-906188e21638"
      },
      "execution_count": null,
      "outputs": [
        {
          "output_type": "stream",
          "name": "stdout",
          "text": [
            "        Date Continent_Name Two_Letter_Country_Code Country_Region positive\n",
            "1 2020-01-20           Asia                      KR    South Korea        1\n",
            "2 2020-01-22  North America                      US  United States        1\n",
            "3 2020-01-22  North America                      US  United States        1\n",
            "4 2020-01-23  North America                      US  United States        1\n",
            "5 2020-01-23  North America                      US  United States        1\n",
            "6 2020-01-24           Asia                      KR    South Korea        2\n",
            "  hospitalized recovered death total_tested active hospitalizedCurr\n",
            "1            0         0     0            4      0                0\n",
            "2            0         0     0            1      0                0\n",
            "3            0         0     0            1      0                0\n",
            "4            0         0     0            1      0                0\n",
            "5            0         0     0            1      0                0\n",
            "6            0         0     0           27      0                0\n",
            "  daily_tested daily_positive\n",
            "1            0              0\n",
            "2            0              0\n",
            "3            0              0\n",
            "4            0              0\n",
            "5            0              0\n",
            "6            5              0\n"
          ]
        }
      ]
    },
    {
      "cell_type": "markdown",
      "source": [
        "Looking at the columns again, we can see that there are two types of data: with cumulative information and daily information. As we cannot work on both at the same time we shall only analyse one type of data. Daily type will be our pick in this analysis, therefore we shall separate it from cumulative data."
      ],
      "metadata": {
        "id": "Jyylrl4-Xtvw"
      }
    },
    {
      "cell_type": "code",
      "source": [
        "%%R\n",
        "# Extracting daily data to covid_df_all_states_daily variable\n",
        "covid_df_all_states_daily <- covid_df_all_states %>% select(Date, Country_Region, active, hospitalizedCurr, daily_tested, daily_positive)"
      ],
      "metadata": {
        "id": "fKx9n92RTBpc"
      },
      "execution_count": null,
      "outputs": []
    },
    {
      "cell_type": "markdown",
      "source": [
        "#### Extracting the Top Ten Countries with Most Covid-19 Cases"
      ],
      "metadata": {
        "id": "E2Jf5ky2Ym0K"
      }
    },
    {
      "cell_type": "markdown",
      "source": [
        "As we analyse covid-19 trends, we will check the top ten Countries with most covid-19 cases in this step."
      ],
      "metadata": {
        "id": "ocgvBnINY1NQ"
      }
    },
    {
      "cell_type": "code",
      "source": [
        "%%R\n",
        "# Ordering by highest n\n",
        "covid_df_all_states_daily_sum <- covid_df_all_states_daily %>%\n",
        "  group_by(Country_Region) %>%\n",
        "  summarise(tested = sum(daily_tested),\n",
        "            positive = sum(daily_positive),\n",
        "            active = sum(active),\n",
        "            hospitalized = sum(hospitalizedCurr)) %>%\n",
        "  arrange(desc(tested))\n",
        "\n",
        "covid_df_all_states_daily_sum"
      ],
      "metadata": {
        "colab": {
          "base_uri": "https://localhost:8080/"
        },
        "id": "qY8Nb0rZTDjt",
        "outputId": "0fa109f0-91e5-4f10-f843-a07b1857c5ad"
      },
      "execution_count": null,
      "outputs": [
        {
          "output_type": "stream",
          "name": "stdout",
          "text": [
            "# A tibble: 108 × 5\n",
            "   Country_Region   tested positive  active hospitalized\n",
            "   <chr>             <int>    <int>   <int>        <int>\n",
            " 1 United States  17282363  1877179       0            0\n",
            " 2 Russia         10542266   406368 6924890            0\n",
            " 3 Italy           4091291   251710 6202214      1699003\n",
            " 4 India           3692851    60959       0            0\n",
            " 5 Turkey          2031192   163941 2980960            0\n",
            " 6 Canada          1654779    90873   56454            0\n",
            " 7 United Kingdom  1473672   166909       0            0\n",
            " 8 Australia       1252900     7200  134586         6655\n",
            " 9 Peru             976790    59497       0            0\n",
            "10 Poland           928256    23987  538203            0\n",
            "# ℹ 98 more rows\n",
            "# ℹ Use `print(n = ...)` to see more rows\n"
          ]
        }
      ]
    },
    {
      "cell_type": "code",
      "source": [
        "%%R\n",
        "covid_top_10 <- head(covid_df_all_states_daily_sum, 10)\n",
        "covid_top_10"
      ],
      "metadata": {
        "colab": {
          "base_uri": "https://localhost:8080/"
        },
        "id": "ZHRtDuvFTFAR",
        "outputId": "6a04f6e4-dc0d-4f81-803e-49cef438c393"
      },
      "execution_count": null,
      "outputs": [
        {
          "output_type": "stream",
          "name": "stdout",
          "text": [
            "# A tibble: 10 × 5\n",
            "   Country_Region   tested positive  active hospitalized\n",
            "   <chr>             <int>    <int>   <int>        <int>\n",
            " 1 United States  17282363  1877179       0            0\n",
            " 2 Russia         10542266   406368 6924890            0\n",
            " 3 Italy           4091291   251710 6202214      1699003\n",
            " 4 India           3692851    60959       0            0\n",
            " 5 Turkey          2031192   163941 2980960            0\n",
            " 6 Canada          1654779    90873   56454            0\n",
            " 7 United Kingdom  1473672   166909       0            0\n",
            " 8 Australia       1252900     7200  134586         6655\n",
            " 9 Peru             976790    59497       0            0\n",
            "10 Poland           928256    23987  538203            0\n"
          ]
        }
      ]
    },
    {
      "cell_type": "markdown",
      "source": [
        "####  Identifying the Highest Positive Against Tested Cases"
      ],
      "metadata": {
        "id": "IDqCFs3vaMTc"
      }
    },
    {
      "cell_type": "markdown",
      "source": [
        "**Which countries have had the highest number of positive cases against the number of tests?**\n",
        "\n",
        "We will try to answer this question, because it will give us more representative look at the trends. Above we've mainly seen above all that there is positive correlation between number of tests and positive cases."
      ],
      "metadata": {
        "id": "hy9yu_zjaT-w"
      }
    },
    {
      "cell_type": "code",
      "source": [
        "%%R\n",
        "countries <- covid_top_10$Country_Region\n",
        "tested_cases <- covid_top_10$tested\n",
        "positive_cases <- covid_top_10$positive\n",
        "active_cases <- covid_top_10$active\n",
        "hospitalized_cases <-  covid_top_10$hospitalized"
      ],
      "metadata": {
        "id": "6S2VkY41TGpI"
      },
      "execution_count": null,
      "outputs": []
    },
    {
      "cell_type": "code",
      "source": [
        "%%R\n",
        "names(tested_cases) <- countries\n",
        "names(positive_cases) <- countries\n",
        "names(active_cases) <- countries\n",
        "names(hospitalized_cases) <- countries"
      ],
      "metadata": {
        "id": "PXUfsE-HcX98"
      },
      "execution_count": null,
      "outputs": []
    },
    {
      "cell_type": "code",
      "source": [
        "%%R\n",
        "cos <- positive_cases / tested_cases\n",
        "cos <- sort(cos, decreasing = TRUE)\n",
        "positive_tested_top_3 <- cos[1:3]"
      ],
      "metadata": {
        "id": "RruzppwqTQxd"
      },
      "execution_count": null,
      "outputs": []
    },
    {
      "cell_type": "code",
      "source": [
        "%%R\n",
        "positive_tested_top_3"
      ],
      "metadata": {
        "colab": {
          "base_uri": "https://localhost:8080/"
        },
        "id": "6DDom8-HTH9d",
        "outputId": "5cee3c62-667b-431c-88a6-26be0cfad1b7"
      },
      "execution_count": null,
      "outputs": [
        {
          "output_type": "stream",
          "name": "stdout",
          "text": [
            "United Kingdom  United States         Turkey \n",
            "    0.11326062     0.10861819     0.08071172 \n"
          ]
        }
      ]
    },
    {
      "cell_type": "markdown",
      "source": [
        "UK, US and Turkey are top 3 countreis with highest positive cases to tested cases ratio."
      ],
      "metadata": {
        "id": "jbfKz7ABcZ_R"
      }
    },
    {
      "cell_type": "markdown",
      "source": [
        "#### Keeping relevant information"
      ],
      "metadata": {
        "id": "PKCF4i5PdpIK"
      }
    },
    {
      "cell_type": "markdown",
      "source": [
        "Our goal is to find a way to keep all the information available for the top three countries that have had the highest number of positive cases against the number of tests carried out"
      ],
      "metadata": {
        "id": "JPJUXFixdyzg"
      }
    },
    {
      "cell_type": "code",
      "source": [
        "%%R\n",
        "# Creating vectors\n",
        "united_kingdom <- c(0.11, 1473672, 166909, 0, 0)\n",
        "united_states  <- c(0.10, 17282363, 1877179, 0, 0)\n",
        "turkey <- c(0.08, 2031192, 163941, 2980960, 0)\n",
        "\n",
        "# Creating matrix\n",
        "covid_mat <- rbind(united_kingdom, united_states,turkey)\n",
        "covid_mat"
      ],
      "metadata": {
        "colab": {
          "base_uri": "https://localhost:8080/"
        },
        "id": "zGQS4HEtTJro",
        "outputId": "0e35d45b-2202-45ec-cb9e-e1b22b08c85f"
      },
      "execution_count": null,
      "outputs": [
        {
          "metadata": {
            "tags": null
          },
          "name": "stdout",
          "output_type": "stream",
          "text": [
            "               [,1]     [,2]    [,3]    [,4] [,5]\n",
            "united_kingdom 0.11  1473672  166909       0    0\n",
            "united_states  0.10 17282363 1877179       0    0\n",
            "turkey         0.08  2031192  163941 2980960    0\n"
          ]
        }
      ]
    },
    {
      "cell_type": "code",
      "source": [
        "%%R\n",
        "# Renaming matrix columns\n",
        "colnames(covid_mat) <- c(\"Ratio\", \"tested\", \"positive\", \"active\", \"hospitalized\")"
      ],
      "metadata": {
        "id": "V50r_qmqTTE4"
      },
      "execution_count": null,
      "outputs": []
    },
    {
      "cell_type": "code",
      "source": [
        "%%R\n",
        "covid_mat"
      ],
      "metadata": {
        "colab": {
          "base_uri": "https://localhost:8080/"
        },
        "id": "63wU5l_yTUbI",
        "outputId": "7370c676-5f0a-43b6-fab7-086fb9803a2b"
      },
      "execution_count": null,
      "outputs": [
        {
          "output_type": "stream",
          "name": "stdout",
          "text": [
            "               Ratio   tested positive  active hospitalized\n",
            "united_kingdom  0.11  1473672   166909       0            0\n",
            "united_states   0.10 17282363  1877179       0            0\n",
            "turkey          0.08  2031192   163941 2980960            0\n"
          ]
        }
      ]
    },
    {
      "cell_type": "markdown",
      "source": [
        "#### Putting all together"
      ],
      "metadata": {
        "id": "F8cB7RkHeanP"
      }
    },
    {
      "cell_type": "markdown",
      "source": [
        " Our goal here is to put all our answers and datasets together. Since a list can contain several types of objects, we are able to store all the data of our project together. This allows us to have a global view from a single variable and the ability to export our results for other uses."
      ],
      "metadata": {
        "id": "Xynk2u8oelpL"
      }
    },
    {
      "cell_type": "code",
      "source": [
        "%%R\n",
        "question <- \"Which countries have had the highest number of positive cases against the number of tests?\""
      ],
      "metadata": {
        "id": "-pNOg9FZTVuo"
      },
      "execution_count": null,
      "outputs": []
    },
    {
      "cell_type": "code",
      "source": [
        "%%R\n",
        "answer <- c(\"Positive tested cases\" = positive_tested_top_3)\n",
        "answer"
      ],
      "metadata": {
        "colab": {
          "base_uri": "https://localhost:8080/"
        },
        "id": "_xWb7UF0TXZN",
        "outputId": "96df863e-0812-48e5-980f-a5e9842a3255"
      },
      "execution_count": null,
      "outputs": [
        {
          "output_type": "stream",
          "name": "stdout",
          "text": [
            "Positive tested cases.United Kingdom  Positive tested cases.United States \n",
            "                          0.11326062                           0.10861819 \n",
            "        Positive tested cases.Turkey \n",
            "                          0.08071172 \n"
          ]
        }
      ]
    },
    {
      "cell_type": "code",
      "source": [
        "%%R\n",
        "list1 <- list(head(covid_df))\n",
        "list2 <- list(covid_df_all_states_daily_sum)\n",
        "list3 <- list(positive_tested_top_3)"
      ],
      "metadata": {
        "id": "TtKqn1KMTY-e"
      },
      "execution_count": null,
      "outputs": []
    },
    {
      "cell_type": "code",
      "source": [
        "%%R\n",
        "list1 <- list(\n",
        "  pierwotna = covid_df,\n",
        "  stany = covid_df_all_states,\n",
        "  dzien = covid_df_all_states_daily,\n",
        "  top10 = covid_top_10\n",
        ")"
      ],
      "metadata": {
        "id": "L22rCoCGTad5"
      },
      "execution_count": null,
      "outputs": []
    },
    {
      "cell_type": "code",
      "source": [
        "%%R\n",
        "mat <- list(covid_mat)\n",
        "vector <- list(vector_cols, countries)"
      ],
      "metadata": {
        "id": "WOfOuPZdTcD_"
      },
      "execution_count": null,
      "outputs": []
    },
    {
      "cell_type": "code",
      "source": [
        "%%R\n",
        "data_structure_list <- list(\"df\" = list1, \"mat\" = mat, \"v\" = vector)"
      ],
      "metadata": {
        "id": "DwXRHSKJTdxj"
      },
      "execution_count": null,
      "outputs": []
    },
    {
      "cell_type": "code",
      "source": [
        "%%R\n",
        "covid_analysis_list <- list(question, answer, data_structure_list)"
      ],
      "metadata": {
        "id": "GhJshcexTfCM"
      },
      "execution_count": null,
      "outputs": []
    },
    {
      "cell_type": "code",
      "source": [
        "%%R\n",
        "covid_analysis_list[[2]]"
      ],
      "metadata": {
        "colab": {
          "base_uri": "https://localhost:8080/"
        },
        "id": "ERPWTSwETggK",
        "outputId": "20eadb05-e4fe-4ecc-abf1-9198500d6a21"
      },
      "execution_count": null,
      "outputs": [
        {
          "output_type": "stream",
          "name": "stdout",
          "text": [
            "Positive tested cases.United Kingdom  Positive tested cases.United States \n",
            "                          0.11326062                           0.10861819 \n",
            "        Positive tested cases.Turkey \n",
            "                          0.08071172 \n"
          ]
        }
      ]
    },
    {
      "cell_type": "markdown",
      "source": [
        "Basing on this analysis, we can assume United Kingdom, United States, and Turkey have had the highest number of positive cases against the number of test cases. With that knowledge, we can look for the possible reasons for that case to prevent covid and other viruses from spreading in the future by setting the optimal tactic to fight the pandemics."
      ],
      "metadata": {
        "id": "SrQPkjpRfcJy"
      }
    }
  ]
}
