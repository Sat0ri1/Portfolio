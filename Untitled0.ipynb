{
  "nbformat": 4,
  "nbformat_minor": 0,
  "metadata": {
    "colab": {
      "provenance": []
    },
    "kernelspec": {
      "name": "python3",
      "display_name": "Python 3"
    },
    "language_info": {
      "name": "python"
    }
  },
  "cells": [
    {
      "cell_type": "markdown",
      "source": [
        "Predicting Listing Gains in the Indian IPO Market Using TensorFlow"
      ],
      "metadata": {
        "id": "xZMQOc0TmlZt"
      }
    },
    {
      "cell_type": "markdown",
      "source": [
        "Goal of this project is to build deep learning model which will determine determine if there will be listing gains for the IPO. Listing gains are the percentage increase in the share price of a company from its IPO issue price on the day of listing."
      ],
      "metadata": {
        "id": "q5PvS9wWm4Kf"
      }
    },
    {
      "cell_type": "markdown",
      "source": [
        "#### Loading the Data"
      ],
      "metadata": {
        "id": "1cnScdCKmvnU"
      }
    },
    {
      "cell_type": "code",
      "source": [
        "# Importing packages\n",
        "import numpy as np\n",
        "import pandas as pd\n",
        "import seaborn as sns\n",
        "import matplotlib.pyplot as plt\n",
        "import tensorflow as tf\n",
        "\n",
        "from tensorflow import keras\n",
        "from tensorflow.keras import layers\n",
        "from sklearn.model_selection import train_test_split"
      ],
      "metadata": {
        "id": "5OivfvTkminF"
      },
      "execution_count": null,
      "outputs": []
    },
    {
      "cell_type": "code",
      "source": [
        "# Uploading data\n",
        "IPO = pd.read_csv(\"https://raw.githubusercontent.com/Sat0ri1/MojeRep_PG/main/Indian_IPO_Market_Data.csv\")"
      ],
      "metadata": {
        "id": "7BxAuz1dnmkP"
      },
      "execution_count": null,
      "outputs": []
    },
    {
      "cell_type": "code",
      "source": [
        "# Printing first 5 rows\n",
        "IPO.head(5)"
      ],
      "metadata": {
        "colab": {
          "base_uri": "https://localhost:8080/",
          "height": 206
        },
        "id": "sd4LofOpo3V6",
        "outputId": "54426075-28aa-46d1-b376-1110fe148fd9"
      },
      "execution_count": null,
      "outputs": [
        {
          "output_type": "execute_result",
          "data": {
            "text/plain": [
              "      Date           IPOName  Issue_Size  Subscription_QIB  Subscription_HNI  \\\n",
              "0  03/02/10    Infinite Comp      189.80             48.44            106.02   \n",
              "1  08/02/10    Jubilant Food      328.70             59.39             51.95   \n",
              "2  15/02/10    Syncom Health       56.25              0.99             16.60   \n",
              "3  15/02/10  Vascon Engineer      199.80              1.12              3.65   \n",
              "4  19/02/10      Thangamayil        0.00              0.52              1.52   \n",
              "\n",
              "   Subscription_RII  Subscription_Total  Issue_Price  Listing_Gains_Percent  \n",
              "0             11.08               43.22          165                  11.82  \n",
              "1              3.79               31.11          145                 -84.21  \n",
              "2              6.25                5.17           75                  17.13  \n",
              "3              0.62                1.22          165                 -11.28  \n",
              "4              2.26                1.12           75                  -5.20  "
            ],
            "text/html": [
              "\n",
              "  <div id=\"df-c5de2feb-6b8d-477a-bfe1-ef5c9fb43116\" class=\"colab-df-container\">\n",
              "    <div>\n",
              "<style scoped>\n",
              "    .dataframe tbody tr th:only-of-type {\n",
              "        vertical-align: middle;\n",
              "    }\n",
              "\n",
              "    .dataframe tbody tr th {\n",
              "        vertical-align: top;\n",
              "    }\n",
              "\n",
              "    .dataframe thead th {\n",
              "        text-align: right;\n",
              "    }\n",
              "</style>\n",
              "<table border=\"1\" class=\"dataframe\">\n",
              "  <thead>\n",
              "    <tr style=\"text-align: right;\">\n",
              "      <th></th>\n",
              "      <th>Date</th>\n",
              "      <th>IPOName</th>\n",
              "      <th>Issue_Size</th>\n",
              "      <th>Subscription_QIB</th>\n",
              "      <th>Subscription_HNI</th>\n",
              "      <th>Subscription_RII</th>\n",
              "      <th>Subscription_Total</th>\n",
              "      <th>Issue_Price</th>\n",
              "      <th>Listing_Gains_Percent</th>\n",
              "    </tr>\n",
              "  </thead>\n",
              "  <tbody>\n",
              "    <tr>\n",
              "      <th>0</th>\n",
              "      <td>03/02/10</td>\n",
              "      <td>Infinite Comp</td>\n",
              "      <td>189.80</td>\n",
              "      <td>48.44</td>\n",
              "      <td>106.02</td>\n",
              "      <td>11.08</td>\n",
              "      <td>43.22</td>\n",
              "      <td>165</td>\n",
              "      <td>11.82</td>\n",
              "    </tr>\n",
              "    <tr>\n",
              "      <th>1</th>\n",
              "      <td>08/02/10</td>\n",
              "      <td>Jubilant Food</td>\n",
              "      <td>328.70</td>\n",
              "      <td>59.39</td>\n",
              "      <td>51.95</td>\n",
              "      <td>3.79</td>\n",
              "      <td>31.11</td>\n",
              "      <td>145</td>\n",
              "      <td>-84.21</td>\n",
              "    </tr>\n",
              "    <tr>\n",
              "      <th>2</th>\n",
              "      <td>15/02/10</td>\n",
              "      <td>Syncom Health</td>\n",
              "      <td>56.25</td>\n",
              "      <td>0.99</td>\n",
              "      <td>16.60</td>\n",
              "      <td>6.25</td>\n",
              "      <td>5.17</td>\n",
              "      <td>75</td>\n",
              "      <td>17.13</td>\n",
              "    </tr>\n",
              "    <tr>\n",
              "      <th>3</th>\n",
              "      <td>15/02/10</td>\n",
              "      <td>Vascon Engineer</td>\n",
              "      <td>199.80</td>\n",
              "      <td>1.12</td>\n",
              "      <td>3.65</td>\n",
              "      <td>0.62</td>\n",
              "      <td>1.22</td>\n",
              "      <td>165</td>\n",
              "      <td>-11.28</td>\n",
              "    </tr>\n",
              "    <tr>\n",
              "      <th>4</th>\n",
              "      <td>19/02/10</td>\n",
              "      <td>Thangamayil</td>\n",
              "      <td>0.00</td>\n",
              "      <td>0.52</td>\n",
              "      <td>1.52</td>\n",
              "      <td>2.26</td>\n",
              "      <td>1.12</td>\n",
              "      <td>75</td>\n",
              "      <td>-5.20</td>\n",
              "    </tr>\n",
              "  </tbody>\n",
              "</table>\n",
              "</div>\n",
              "    <div class=\"colab-df-buttons\">\n",
              "\n",
              "  <div class=\"colab-df-container\">\n",
              "    <button class=\"colab-df-convert\" onclick=\"convertToInteractive('df-c5de2feb-6b8d-477a-bfe1-ef5c9fb43116')\"\n",
              "            title=\"Convert this dataframe to an interactive table.\"\n",
              "            style=\"display:none;\">\n",
              "\n",
              "  <svg xmlns=\"http://www.w3.org/2000/svg\" height=\"24px\" viewBox=\"0 -960 960 960\">\n",
              "    <path d=\"M120-120v-720h720v720H120Zm60-500h600v-160H180v160Zm220 220h160v-160H400v160Zm0 220h160v-160H400v160ZM180-400h160v-160H180v160Zm440 0h160v-160H620v160ZM180-180h160v-160H180v160Zm440 0h160v-160H620v160Z\"/>\n",
              "  </svg>\n",
              "    </button>\n",
              "\n",
              "  <style>\n",
              "    .colab-df-container {\n",
              "      display:flex;\n",
              "      gap: 12px;\n",
              "    }\n",
              "\n",
              "    .colab-df-convert {\n",
              "      background-color: #E8F0FE;\n",
              "      border: none;\n",
              "      border-radius: 50%;\n",
              "      cursor: pointer;\n",
              "      display: none;\n",
              "      fill: #1967D2;\n",
              "      height: 32px;\n",
              "      padding: 0 0 0 0;\n",
              "      width: 32px;\n",
              "    }\n",
              "\n",
              "    .colab-df-convert:hover {\n",
              "      background-color: #E2EBFA;\n",
              "      box-shadow: 0px 1px 2px rgba(60, 64, 67, 0.3), 0px 1px 3px 1px rgba(60, 64, 67, 0.15);\n",
              "      fill: #174EA6;\n",
              "    }\n",
              "\n",
              "    .colab-df-buttons div {\n",
              "      margin-bottom: 4px;\n",
              "    }\n",
              "\n",
              "    [theme=dark] .colab-df-convert {\n",
              "      background-color: #3B4455;\n",
              "      fill: #D2E3FC;\n",
              "    }\n",
              "\n",
              "    [theme=dark] .colab-df-convert:hover {\n",
              "      background-color: #434B5C;\n",
              "      box-shadow: 0px 1px 3px 1px rgba(0, 0, 0, 0.15);\n",
              "      filter: drop-shadow(0px 1px 2px rgba(0, 0, 0, 0.3));\n",
              "      fill: #FFFFFF;\n",
              "    }\n",
              "  </style>\n",
              "\n",
              "    <script>\n",
              "      const buttonEl =\n",
              "        document.querySelector('#df-c5de2feb-6b8d-477a-bfe1-ef5c9fb43116 button.colab-df-convert');\n",
              "      buttonEl.style.display =\n",
              "        google.colab.kernel.accessAllowed ? 'block' : 'none';\n",
              "\n",
              "      async function convertToInteractive(key) {\n",
              "        const element = document.querySelector('#df-c5de2feb-6b8d-477a-bfe1-ef5c9fb43116');\n",
              "        const dataTable =\n",
              "          await google.colab.kernel.invokeFunction('convertToInteractive',\n",
              "                                                    [key], {});\n",
              "        if (!dataTable) return;\n",
              "\n",
              "        const docLinkHtml = 'Like what you see? Visit the ' +\n",
              "          '<a target=\"_blank\" href=https://colab.research.google.com/notebooks/data_table.ipynb>data table notebook</a>'\n",
              "          + ' to learn more about interactive tables.';\n",
              "        element.innerHTML = '';\n",
              "        dataTable['output_type'] = 'display_data';\n",
              "        await google.colab.output.renderOutput(dataTable, element);\n",
              "        const docLink = document.createElement('div');\n",
              "        docLink.innerHTML = docLinkHtml;\n",
              "        element.appendChild(docLink);\n",
              "      }\n",
              "    </script>\n",
              "  </div>\n",
              "\n",
              "\n",
              "<div id=\"df-967c17c7-b1c1-4591-8680-18de1d624b01\">\n",
              "  <button class=\"colab-df-quickchart\" onclick=\"quickchart('df-967c17c7-b1c1-4591-8680-18de1d624b01')\"\n",
              "            title=\"Suggest charts\"\n",
              "            style=\"display:none;\">\n",
              "\n",
              "<svg xmlns=\"http://www.w3.org/2000/svg\" height=\"24px\"viewBox=\"0 0 24 24\"\n",
              "     width=\"24px\">\n",
              "    <g>\n",
              "        <path d=\"M19 3H5c-1.1 0-2 .9-2 2v14c0 1.1.9 2 2 2h14c1.1 0 2-.9 2-2V5c0-1.1-.9-2-2-2zM9 17H7v-7h2v7zm4 0h-2V7h2v10zm4 0h-2v-4h2v4z\"/>\n",
              "    </g>\n",
              "</svg>\n",
              "  </button>\n",
              "\n",
              "<style>\n",
              "  .colab-df-quickchart {\n",
              "      --bg-color: #E8F0FE;\n",
              "      --fill-color: #1967D2;\n",
              "      --hover-bg-color: #E2EBFA;\n",
              "      --hover-fill-color: #174EA6;\n",
              "      --disabled-fill-color: #AAA;\n",
              "      --disabled-bg-color: #DDD;\n",
              "  }\n",
              "\n",
              "  [theme=dark] .colab-df-quickchart {\n",
              "      --bg-color: #3B4455;\n",
              "      --fill-color: #D2E3FC;\n",
              "      --hover-bg-color: #434B5C;\n",
              "      --hover-fill-color: #FFFFFF;\n",
              "      --disabled-bg-color: #3B4455;\n",
              "      --disabled-fill-color: #666;\n",
              "  }\n",
              "\n",
              "  .colab-df-quickchart {\n",
              "    background-color: var(--bg-color);\n",
              "    border: none;\n",
              "    border-radius: 50%;\n",
              "    cursor: pointer;\n",
              "    display: none;\n",
              "    fill: var(--fill-color);\n",
              "    height: 32px;\n",
              "    padding: 0;\n",
              "    width: 32px;\n",
              "  }\n",
              "\n",
              "  .colab-df-quickchart:hover {\n",
              "    background-color: var(--hover-bg-color);\n",
              "    box-shadow: 0 1px 2px rgba(60, 64, 67, 0.3), 0 1px 3px 1px rgba(60, 64, 67, 0.15);\n",
              "    fill: var(--button-hover-fill-color);\n",
              "  }\n",
              "\n",
              "  .colab-df-quickchart-complete:disabled,\n",
              "  .colab-df-quickchart-complete:disabled:hover {\n",
              "    background-color: var(--disabled-bg-color);\n",
              "    fill: var(--disabled-fill-color);\n",
              "    box-shadow: none;\n",
              "  }\n",
              "\n",
              "  .colab-df-spinner {\n",
              "    border: 2px solid var(--fill-color);\n",
              "    border-color: transparent;\n",
              "    border-bottom-color: var(--fill-color);\n",
              "    animation:\n",
              "      spin 1s steps(1) infinite;\n",
              "  }\n",
              "\n",
              "  @keyframes spin {\n",
              "    0% {\n",
              "      border-color: transparent;\n",
              "      border-bottom-color: var(--fill-color);\n",
              "      border-left-color: var(--fill-color);\n",
              "    }\n",
              "    20% {\n",
              "      border-color: transparent;\n",
              "      border-left-color: var(--fill-color);\n",
              "      border-top-color: var(--fill-color);\n",
              "    }\n",
              "    30% {\n",
              "      border-color: transparent;\n",
              "      border-left-color: var(--fill-color);\n",
              "      border-top-color: var(--fill-color);\n",
              "      border-right-color: var(--fill-color);\n",
              "    }\n",
              "    40% {\n",
              "      border-color: transparent;\n",
              "      border-right-color: var(--fill-color);\n",
              "      border-top-color: var(--fill-color);\n",
              "    }\n",
              "    60% {\n",
              "      border-color: transparent;\n",
              "      border-right-color: var(--fill-color);\n",
              "    }\n",
              "    80% {\n",
              "      border-color: transparent;\n",
              "      border-right-color: var(--fill-color);\n",
              "      border-bottom-color: var(--fill-color);\n",
              "    }\n",
              "    90% {\n",
              "      border-color: transparent;\n",
              "      border-bottom-color: var(--fill-color);\n",
              "    }\n",
              "  }\n",
              "</style>\n",
              "\n",
              "  <script>\n",
              "    async function quickchart(key) {\n",
              "      const quickchartButtonEl =\n",
              "        document.querySelector('#' + key + ' button');\n",
              "      quickchartButtonEl.disabled = true;  // To prevent multiple clicks.\n",
              "      quickchartButtonEl.classList.add('colab-df-spinner');\n",
              "      try {\n",
              "        const charts = await google.colab.kernel.invokeFunction(\n",
              "            'suggestCharts', [key], {});\n",
              "      } catch (error) {\n",
              "        console.error('Error during call to suggestCharts:', error);\n",
              "      }\n",
              "      quickchartButtonEl.classList.remove('colab-df-spinner');\n",
              "      quickchartButtonEl.classList.add('colab-df-quickchart-complete');\n",
              "    }\n",
              "    (() => {\n",
              "      let quickchartButtonEl =\n",
              "        document.querySelector('#df-967c17c7-b1c1-4591-8680-18de1d624b01 button');\n",
              "      quickchartButtonEl.style.display =\n",
              "        google.colab.kernel.accessAllowed ? 'block' : 'none';\n",
              "    })();\n",
              "  </script>\n",
              "</div>\n",
              "    </div>\n",
              "  </div>\n"
            ]
          },
          "metadata": {},
          "execution_count": 22
        }
      ]
    },
    {
      "cell_type": "code",
      "source": [
        "# Printing last 5 rows\n",
        "IPO.tail(5)"
      ],
      "metadata": {
        "colab": {
          "base_uri": "https://localhost:8080/",
          "height": 206
        },
        "id": "WFcwRHcbo9sR",
        "outputId": "78490bb4-5f08-400b-c738-a380e52742fa"
      },
      "execution_count": null,
      "outputs": [
        {
          "output_type": "execute_result",
          "data": {
            "text/plain": [
              "        Date           IPOName  Issue_Size  Subscription_QIB  \\\n",
              "314  26/08/22        Syrma SGS      840.13             42.42   \n",
              "315  06/09/22  Dreamfolks Serv      562.10             27.48   \n",
              "316  15/09/22              TMB      792.00              0.51   \n",
              "317  26/09/22  Harsha Engineer      755.00            113.82   \n",
              "318  17/10/22  Electronics Mar      500.00             58.81   \n",
              "\n",
              "     Subscription_HNI  Subscription_RII  Subscription_Total  Issue_Price  \\\n",
              "314              7.13              2.84               15.59          220   \n",
              "315             14.18             24.19               23.25          326   \n",
              "316              1.77              3.44                1.39          525   \n",
              "317             40.36             12.44               47.19          330   \n",
              "318             15.39              8.27               24.23           59   \n",
              "\n",
              "     Listing_Gains_Percent  \n",
              "314                  42.30  \n",
              "315                  41.92  \n",
              "316                  -3.15  \n",
              "317                  47.24  \n",
              "318                  43.14  "
            ],
            "text/html": [
              "\n",
              "  <div id=\"df-75560fd9-0a74-45d0-9ac7-04b8c2bb49f0\" class=\"colab-df-container\">\n",
              "    <div>\n",
              "<style scoped>\n",
              "    .dataframe tbody tr th:only-of-type {\n",
              "        vertical-align: middle;\n",
              "    }\n",
              "\n",
              "    .dataframe tbody tr th {\n",
              "        vertical-align: top;\n",
              "    }\n",
              "\n",
              "    .dataframe thead th {\n",
              "        text-align: right;\n",
              "    }\n",
              "</style>\n",
              "<table border=\"1\" class=\"dataframe\">\n",
              "  <thead>\n",
              "    <tr style=\"text-align: right;\">\n",
              "      <th></th>\n",
              "      <th>Date</th>\n",
              "      <th>IPOName</th>\n",
              "      <th>Issue_Size</th>\n",
              "      <th>Subscription_QIB</th>\n",
              "      <th>Subscription_HNI</th>\n",
              "      <th>Subscription_RII</th>\n",
              "      <th>Subscription_Total</th>\n",
              "      <th>Issue_Price</th>\n",
              "      <th>Listing_Gains_Percent</th>\n",
              "    </tr>\n",
              "  </thead>\n",
              "  <tbody>\n",
              "    <tr>\n",
              "      <th>314</th>\n",
              "      <td>26/08/22</td>\n",
              "      <td>Syrma SGS</td>\n",
              "      <td>840.13</td>\n",
              "      <td>42.42</td>\n",
              "      <td>7.13</td>\n",
              "      <td>2.84</td>\n",
              "      <td>15.59</td>\n",
              "      <td>220</td>\n",
              "      <td>42.30</td>\n",
              "    </tr>\n",
              "    <tr>\n",
              "      <th>315</th>\n",
              "      <td>06/09/22</td>\n",
              "      <td>Dreamfolks Serv</td>\n",
              "      <td>562.10</td>\n",
              "      <td>27.48</td>\n",
              "      <td>14.18</td>\n",
              "      <td>24.19</td>\n",
              "      <td>23.25</td>\n",
              "      <td>326</td>\n",
              "      <td>41.92</td>\n",
              "    </tr>\n",
              "    <tr>\n",
              "      <th>316</th>\n",
              "      <td>15/09/22</td>\n",
              "      <td>TMB</td>\n",
              "      <td>792.00</td>\n",
              "      <td>0.51</td>\n",
              "      <td>1.77</td>\n",
              "      <td>3.44</td>\n",
              "      <td>1.39</td>\n",
              "      <td>525</td>\n",
              "      <td>-3.15</td>\n",
              "    </tr>\n",
              "    <tr>\n",
              "      <th>317</th>\n",
              "      <td>26/09/22</td>\n",
              "      <td>Harsha Engineer</td>\n",
              "      <td>755.00</td>\n",
              "      <td>113.82</td>\n",
              "      <td>40.36</td>\n",
              "      <td>12.44</td>\n",
              "      <td>47.19</td>\n",
              "      <td>330</td>\n",
              "      <td>47.24</td>\n",
              "    </tr>\n",
              "    <tr>\n",
              "      <th>318</th>\n",
              "      <td>17/10/22</td>\n",
              "      <td>Electronics Mar</td>\n",
              "      <td>500.00</td>\n",
              "      <td>58.81</td>\n",
              "      <td>15.39</td>\n",
              "      <td>8.27</td>\n",
              "      <td>24.23</td>\n",
              "      <td>59</td>\n",
              "      <td>43.14</td>\n",
              "    </tr>\n",
              "  </tbody>\n",
              "</table>\n",
              "</div>\n",
              "    <div class=\"colab-df-buttons\">\n",
              "\n",
              "  <div class=\"colab-df-container\">\n",
              "    <button class=\"colab-df-convert\" onclick=\"convertToInteractive('df-75560fd9-0a74-45d0-9ac7-04b8c2bb49f0')\"\n",
              "            title=\"Convert this dataframe to an interactive table.\"\n",
              "            style=\"display:none;\">\n",
              "\n",
              "  <svg xmlns=\"http://www.w3.org/2000/svg\" height=\"24px\" viewBox=\"0 -960 960 960\">\n",
              "    <path d=\"M120-120v-720h720v720H120Zm60-500h600v-160H180v160Zm220 220h160v-160H400v160Zm0 220h160v-160H400v160ZM180-400h160v-160H180v160Zm440 0h160v-160H620v160ZM180-180h160v-160H180v160Zm440 0h160v-160H620v160Z\"/>\n",
              "  </svg>\n",
              "    </button>\n",
              "\n",
              "  <style>\n",
              "    .colab-df-container {\n",
              "      display:flex;\n",
              "      gap: 12px;\n",
              "    }\n",
              "\n",
              "    .colab-df-convert {\n",
              "      background-color: #E8F0FE;\n",
              "      border: none;\n",
              "      border-radius: 50%;\n",
              "      cursor: pointer;\n",
              "      display: none;\n",
              "      fill: #1967D2;\n",
              "      height: 32px;\n",
              "      padding: 0 0 0 0;\n",
              "      width: 32px;\n",
              "    }\n",
              "\n",
              "    .colab-df-convert:hover {\n",
              "      background-color: #E2EBFA;\n",
              "      box-shadow: 0px 1px 2px rgba(60, 64, 67, 0.3), 0px 1px 3px 1px rgba(60, 64, 67, 0.15);\n",
              "      fill: #174EA6;\n",
              "    }\n",
              "\n",
              "    .colab-df-buttons div {\n",
              "      margin-bottom: 4px;\n",
              "    }\n",
              "\n",
              "    [theme=dark] .colab-df-convert {\n",
              "      background-color: #3B4455;\n",
              "      fill: #D2E3FC;\n",
              "    }\n",
              "\n",
              "    [theme=dark] .colab-df-convert:hover {\n",
              "      background-color: #434B5C;\n",
              "      box-shadow: 0px 1px 3px 1px rgba(0, 0, 0, 0.15);\n",
              "      filter: drop-shadow(0px 1px 2px rgba(0, 0, 0, 0.3));\n",
              "      fill: #FFFFFF;\n",
              "    }\n",
              "  </style>\n",
              "\n",
              "    <script>\n",
              "      const buttonEl =\n",
              "        document.querySelector('#df-75560fd9-0a74-45d0-9ac7-04b8c2bb49f0 button.colab-df-convert');\n",
              "      buttonEl.style.display =\n",
              "        google.colab.kernel.accessAllowed ? 'block' : 'none';\n",
              "\n",
              "      async function convertToInteractive(key) {\n",
              "        const element = document.querySelector('#df-75560fd9-0a74-45d0-9ac7-04b8c2bb49f0');\n",
              "        const dataTable =\n",
              "          await google.colab.kernel.invokeFunction('convertToInteractive',\n",
              "                                                    [key], {});\n",
              "        if (!dataTable) return;\n",
              "\n",
              "        const docLinkHtml = 'Like what you see? Visit the ' +\n",
              "          '<a target=\"_blank\" href=https://colab.research.google.com/notebooks/data_table.ipynb>data table notebook</a>'\n",
              "          + ' to learn more about interactive tables.';\n",
              "        element.innerHTML = '';\n",
              "        dataTable['output_type'] = 'display_data';\n",
              "        await google.colab.output.renderOutput(dataTable, element);\n",
              "        const docLink = document.createElement('div');\n",
              "        docLink.innerHTML = docLinkHtml;\n",
              "        element.appendChild(docLink);\n",
              "      }\n",
              "    </script>\n",
              "  </div>\n",
              "\n",
              "\n",
              "<div id=\"df-ca8868aa-3f7b-4f88-996a-7edbc89d7a06\">\n",
              "  <button class=\"colab-df-quickchart\" onclick=\"quickchart('df-ca8868aa-3f7b-4f88-996a-7edbc89d7a06')\"\n",
              "            title=\"Suggest charts\"\n",
              "            style=\"display:none;\">\n",
              "\n",
              "<svg xmlns=\"http://www.w3.org/2000/svg\" height=\"24px\"viewBox=\"0 0 24 24\"\n",
              "     width=\"24px\">\n",
              "    <g>\n",
              "        <path d=\"M19 3H5c-1.1 0-2 .9-2 2v14c0 1.1.9 2 2 2h14c1.1 0 2-.9 2-2V5c0-1.1-.9-2-2-2zM9 17H7v-7h2v7zm4 0h-2V7h2v10zm4 0h-2v-4h2v4z\"/>\n",
              "    </g>\n",
              "</svg>\n",
              "  </button>\n",
              "\n",
              "<style>\n",
              "  .colab-df-quickchart {\n",
              "      --bg-color: #E8F0FE;\n",
              "      --fill-color: #1967D2;\n",
              "      --hover-bg-color: #E2EBFA;\n",
              "      --hover-fill-color: #174EA6;\n",
              "      --disabled-fill-color: #AAA;\n",
              "      --disabled-bg-color: #DDD;\n",
              "  }\n",
              "\n",
              "  [theme=dark] .colab-df-quickchart {\n",
              "      --bg-color: #3B4455;\n",
              "      --fill-color: #D2E3FC;\n",
              "      --hover-bg-color: #434B5C;\n",
              "      --hover-fill-color: #FFFFFF;\n",
              "      --disabled-bg-color: #3B4455;\n",
              "      --disabled-fill-color: #666;\n",
              "  }\n",
              "\n",
              "  .colab-df-quickchart {\n",
              "    background-color: var(--bg-color);\n",
              "    border: none;\n",
              "    border-radius: 50%;\n",
              "    cursor: pointer;\n",
              "    display: none;\n",
              "    fill: var(--fill-color);\n",
              "    height: 32px;\n",
              "    padding: 0;\n",
              "    width: 32px;\n",
              "  }\n",
              "\n",
              "  .colab-df-quickchart:hover {\n",
              "    background-color: var(--hover-bg-color);\n",
              "    box-shadow: 0 1px 2px rgba(60, 64, 67, 0.3), 0 1px 3px 1px rgba(60, 64, 67, 0.15);\n",
              "    fill: var(--button-hover-fill-color);\n",
              "  }\n",
              "\n",
              "  .colab-df-quickchart-complete:disabled,\n",
              "  .colab-df-quickchart-complete:disabled:hover {\n",
              "    background-color: var(--disabled-bg-color);\n",
              "    fill: var(--disabled-fill-color);\n",
              "    box-shadow: none;\n",
              "  }\n",
              "\n",
              "  .colab-df-spinner {\n",
              "    border: 2px solid var(--fill-color);\n",
              "    border-color: transparent;\n",
              "    border-bottom-color: var(--fill-color);\n",
              "    animation:\n",
              "      spin 1s steps(1) infinite;\n",
              "  }\n",
              "\n",
              "  @keyframes spin {\n",
              "    0% {\n",
              "      border-color: transparent;\n",
              "      border-bottom-color: var(--fill-color);\n",
              "      border-left-color: var(--fill-color);\n",
              "    }\n",
              "    20% {\n",
              "      border-color: transparent;\n",
              "      border-left-color: var(--fill-color);\n",
              "      border-top-color: var(--fill-color);\n",
              "    }\n",
              "    30% {\n",
              "      border-color: transparent;\n",
              "      border-left-color: var(--fill-color);\n",
              "      border-top-color: var(--fill-color);\n",
              "      border-right-color: var(--fill-color);\n",
              "    }\n",
              "    40% {\n",
              "      border-color: transparent;\n",
              "      border-right-color: var(--fill-color);\n",
              "      border-top-color: var(--fill-color);\n",
              "    }\n",
              "    60% {\n",
              "      border-color: transparent;\n",
              "      border-right-color: var(--fill-color);\n",
              "    }\n",
              "    80% {\n",
              "      border-color: transparent;\n",
              "      border-right-color: var(--fill-color);\n",
              "      border-bottom-color: var(--fill-color);\n",
              "    }\n",
              "    90% {\n",
              "      border-color: transparent;\n",
              "      border-bottom-color: var(--fill-color);\n",
              "    }\n",
              "  }\n",
              "</style>\n",
              "\n",
              "  <script>\n",
              "    async function quickchart(key) {\n",
              "      const quickchartButtonEl =\n",
              "        document.querySelector('#' + key + ' button');\n",
              "      quickchartButtonEl.disabled = true;  // To prevent multiple clicks.\n",
              "      quickchartButtonEl.classList.add('colab-df-spinner');\n",
              "      try {\n",
              "        const charts = await google.colab.kernel.invokeFunction(\n",
              "            'suggestCharts', [key], {});\n",
              "      } catch (error) {\n",
              "        console.error('Error during call to suggestCharts:', error);\n",
              "      }\n",
              "      quickchartButtonEl.classList.remove('colab-df-spinner');\n",
              "      quickchartButtonEl.classList.add('colab-df-quickchart-complete');\n",
              "    }\n",
              "    (() => {\n",
              "      let quickchartButtonEl =\n",
              "        document.querySelector('#df-ca8868aa-3f7b-4f88-996a-7edbc89d7a06 button');\n",
              "      quickchartButtonEl.style.display =\n",
              "        google.colab.kernel.accessAllowed ? 'block' : 'none';\n",
              "    })();\n",
              "  </script>\n",
              "</div>\n",
              "    </div>\n",
              "  </div>\n"
            ]
          },
          "metadata": {},
          "execution_count": 23
        }
      ]
    },
    {
      "cell_type": "code",
      "source": [
        "# Printing shape\n",
        "print(IPO.shape)"
      ],
      "metadata": {
        "colab": {
          "base_uri": "https://localhost:8080/"
        },
        "id": "Nh6d6Da2pEg6",
        "outputId": "af24d4a5-4a24-49dd-85c1-12ad3dff317f"
      },
      "execution_count": null,
      "outputs": [
        {
          "output_type": "stream",
          "name": "stdout",
          "text": [
            "(319, 9)\n"
          ]
        }
      ]
    },
    {
      "cell_type": "markdown",
      "source": [
        "Above we can see there are 319 rows and 9 columns in IPO dataset. Names of columns are visible above."
      ],
      "metadata": {
        "id": "qJDWb7h5pcw_"
      }
    },
    {
      "cell_type": "code",
      "source": [
        "# Printing statistics for Listing_Gains_Percent\n",
        "IPO['Listing_Gains_Percent'].describe()"
      ],
      "metadata": {
        "colab": {
          "base_uri": "https://localhost:8080/"
        },
        "id": "hlqeIf_rqPi3",
        "outputId": "e7952900-a9af-4eb7-cde5-1b63d1b622b1"
      },
      "execution_count": null,
      "outputs": [
        {
          "output_type": "execute_result",
          "data": {
            "text/plain": [
              "count    319.000000\n",
              "mean       4.742696\n",
              "std       47.650946\n",
              "min      -97.150000\n",
              "25%      -11.555000\n",
              "50%        1.810000\n",
              "75%       25.310000\n",
              "max      270.400000\n",
              "Name: Listing_Gains_Percent, dtype: float64"
            ]
          },
          "metadata": {},
          "execution_count": 25
        }
      ]
    },
    {
      "cell_type": "code",
      "source": [
        "# Printing statistics for all columns\n",
        "IPO.describe(include='all')"
      ],
      "metadata": {
        "colab": {
          "base_uri": "https://localhost:8080/",
          "height": 394
        },
        "id": "dWjm-rawpibx",
        "outputId": "d051b196-d3f7-4626-fdda-f89b2b94626b"
      },
      "execution_count": null,
      "outputs": [
        {
          "output_type": "execute_result",
          "data": {
            "text/plain": [
              "           Date         IPOName    Issue_Size  Subscription_QIB  \\\n",
              "count        319            319    319.000000        319.000000   \n",
              "unique       287            319           NaN               NaN   \n",
              "top     16/08/21  Infinite Comp           NaN               NaN   \n",
              "freq           4              1           NaN               NaN   \n",
              "mean         NaN            NaN   1192.859969         25.684138   \n",
              "std          NaN            NaN   2384.643786         40.716782   \n",
              "min          NaN            NaN      0.000000          0.000000   \n",
              "25%          NaN            NaN    169.005000          1.150000   \n",
              "50%          NaN            NaN    496.250000          4.940000   \n",
              "75%          NaN            NaN   1100.000000         34.635000   \n",
              "max          NaN            NaN  21000.000000        215.450000   \n",
              "\n",
              "        Subscription_HNI  Subscription_RII  Subscription_Total  Issue_Price  \\\n",
              "count         319.000000        319.000000          319.000000   319.000000   \n",
              "unique               NaN               NaN                 NaN          NaN   \n",
              "top                  NaN               NaN                 NaN          NaN   \n",
              "freq                 NaN               NaN                 NaN          NaN   \n",
              "mean           70.091379          8.561599           27.447147   375.128527   \n",
              "std           142.454416         14.508670           48.772203   353.897614   \n",
              "min             0.000000          0.000000            0.000000     0.000000   \n",
              "25%             1.255000          1.275000            1.645000   119.000000   \n",
              "50%             5.070000          3.420000            4.930000   250.000000   \n",
              "75%            62.095000          8.605000           33.395000   536.000000   \n",
              "max           958.070000        119.440000          326.490000  2150.000000   \n",
              "\n",
              "        Listing_Gains_Percent  \n",
              "count              319.000000  \n",
              "unique                    NaN  \n",
              "top                       NaN  \n",
              "freq                      NaN  \n",
              "mean                 4.742696  \n",
              "std                 47.650946  \n",
              "min                -97.150000  \n",
              "25%                -11.555000  \n",
              "50%                  1.810000  \n",
              "75%                 25.310000  \n",
              "max                270.400000  "
            ],
            "text/html": [
              "\n",
              "  <div id=\"df-09720f72-a117-4624-8d48-044994e1aea2\" class=\"colab-df-container\">\n",
              "    <div>\n",
              "<style scoped>\n",
              "    .dataframe tbody tr th:only-of-type {\n",
              "        vertical-align: middle;\n",
              "    }\n",
              "\n",
              "    .dataframe tbody tr th {\n",
              "        vertical-align: top;\n",
              "    }\n",
              "\n",
              "    .dataframe thead th {\n",
              "        text-align: right;\n",
              "    }\n",
              "</style>\n",
              "<table border=\"1\" class=\"dataframe\">\n",
              "  <thead>\n",
              "    <tr style=\"text-align: right;\">\n",
              "      <th></th>\n",
              "      <th>Date</th>\n",
              "      <th>IPOName</th>\n",
              "      <th>Issue_Size</th>\n",
              "      <th>Subscription_QIB</th>\n",
              "      <th>Subscription_HNI</th>\n",
              "      <th>Subscription_RII</th>\n",
              "      <th>Subscription_Total</th>\n",
              "      <th>Issue_Price</th>\n",
              "      <th>Listing_Gains_Percent</th>\n",
              "    </tr>\n",
              "  </thead>\n",
              "  <tbody>\n",
              "    <tr>\n",
              "      <th>count</th>\n",
              "      <td>319</td>\n",
              "      <td>319</td>\n",
              "      <td>319.000000</td>\n",
              "      <td>319.000000</td>\n",
              "      <td>319.000000</td>\n",
              "      <td>319.000000</td>\n",
              "      <td>319.000000</td>\n",
              "      <td>319.000000</td>\n",
              "      <td>319.000000</td>\n",
              "    </tr>\n",
              "    <tr>\n",
              "      <th>unique</th>\n",
              "      <td>287</td>\n",
              "      <td>319</td>\n",
              "      <td>NaN</td>\n",
              "      <td>NaN</td>\n",
              "      <td>NaN</td>\n",
              "      <td>NaN</td>\n",
              "      <td>NaN</td>\n",
              "      <td>NaN</td>\n",
              "      <td>NaN</td>\n",
              "    </tr>\n",
              "    <tr>\n",
              "      <th>top</th>\n",
              "      <td>16/08/21</td>\n",
              "      <td>Infinite Comp</td>\n",
              "      <td>NaN</td>\n",
              "      <td>NaN</td>\n",
              "      <td>NaN</td>\n",
              "      <td>NaN</td>\n",
              "      <td>NaN</td>\n",
              "      <td>NaN</td>\n",
              "      <td>NaN</td>\n",
              "    </tr>\n",
              "    <tr>\n",
              "      <th>freq</th>\n",
              "      <td>4</td>\n",
              "      <td>1</td>\n",
              "      <td>NaN</td>\n",
              "      <td>NaN</td>\n",
              "      <td>NaN</td>\n",
              "      <td>NaN</td>\n",
              "      <td>NaN</td>\n",
              "      <td>NaN</td>\n",
              "      <td>NaN</td>\n",
              "    </tr>\n",
              "    <tr>\n",
              "      <th>mean</th>\n",
              "      <td>NaN</td>\n",
              "      <td>NaN</td>\n",
              "      <td>1192.859969</td>\n",
              "      <td>25.684138</td>\n",
              "      <td>70.091379</td>\n",
              "      <td>8.561599</td>\n",
              "      <td>27.447147</td>\n",
              "      <td>375.128527</td>\n",
              "      <td>4.742696</td>\n",
              "    </tr>\n",
              "    <tr>\n",
              "      <th>std</th>\n",
              "      <td>NaN</td>\n",
              "      <td>NaN</td>\n",
              "      <td>2384.643786</td>\n",
              "      <td>40.716782</td>\n",
              "      <td>142.454416</td>\n",
              "      <td>14.508670</td>\n",
              "      <td>48.772203</td>\n",
              "      <td>353.897614</td>\n",
              "      <td>47.650946</td>\n",
              "    </tr>\n",
              "    <tr>\n",
              "      <th>min</th>\n",
              "      <td>NaN</td>\n",
              "      <td>NaN</td>\n",
              "      <td>0.000000</td>\n",
              "      <td>0.000000</td>\n",
              "      <td>0.000000</td>\n",
              "      <td>0.000000</td>\n",
              "      <td>0.000000</td>\n",
              "      <td>0.000000</td>\n",
              "      <td>-97.150000</td>\n",
              "    </tr>\n",
              "    <tr>\n",
              "      <th>25%</th>\n",
              "      <td>NaN</td>\n",
              "      <td>NaN</td>\n",
              "      <td>169.005000</td>\n",
              "      <td>1.150000</td>\n",
              "      <td>1.255000</td>\n",
              "      <td>1.275000</td>\n",
              "      <td>1.645000</td>\n",
              "      <td>119.000000</td>\n",
              "      <td>-11.555000</td>\n",
              "    </tr>\n",
              "    <tr>\n",
              "      <th>50%</th>\n",
              "      <td>NaN</td>\n",
              "      <td>NaN</td>\n",
              "      <td>496.250000</td>\n",
              "      <td>4.940000</td>\n",
              "      <td>5.070000</td>\n",
              "      <td>3.420000</td>\n",
              "      <td>4.930000</td>\n",
              "      <td>250.000000</td>\n",
              "      <td>1.810000</td>\n",
              "    </tr>\n",
              "    <tr>\n",
              "      <th>75%</th>\n",
              "      <td>NaN</td>\n",
              "      <td>NaN</td>\n",
              "      <td>1100.000000</td>\n",
              "      <td>34.635000</td>\n",
              "      <td>62.095000</td>\n",
              "      <td>8.605000</td>\n",
              "      <td>33.395000</td>\n",
              "      <td>536.000000</td>\n",
              "      <td>25.310000</td>\n",
              "    </tr>\n",
              "    <tr>\n",
              "      <th>max</th>\n",
              "      <td>NaN</td>\n",
              "      <td>NaN</td>\n",
              "      <td>21000.000000</td>\n",
              "      <td>215.450000</td>\n",
              "      <td>958.070000</td>\n",
              "      <td>119.440000</td>\n",
              "      <td>326.490000</td>\n",
              "      <td>2150.000000</td>\n",
              "      <td>270.400000</td>\n",
              "    </tr>\n",
              "  </tbody>\n",
              "</table>\n",
              "</div>\n",
              "    <div class=\"colab-df-buttons\">\n",
              "\n",
              "  <div class=\"colab-df-container\">\n",
              "    <button class=\"colab-df-convert\" onclick=\"convertToInteractive('df-09720f72-a117-4624-8d48-044994e1aea2')\"\n",
              "            title=\"Convert this dataframe to an interactive table.\"\n",
              "            style=\"display:none;\">\n",
              "\n",
              "  <svg xmlns=\"http://www.w3.org/2000/svg\" height=\"24px\" viewBox=\"0 -960 960 960\">\n",
              "    <path d=\"M120-120v-720h720v720H120Zm60-500h600v-160H180v160Zm220 220h160v-160H400v160Zm0 220h160v-160H400v160ZM180-400h160v-160H180v160Zm440 0h160v-160H620v160ZM180-180h160v-160H180v160Zm440 0h160v-160H620v160Z\"/>\n",
              "  </svg>\n",
              "    </button>\n",
              "\n",
              "  <style>\n",
              "    .colab-df-container {\n",
              "      display:flex;\n",
              "      gap: 12px;\n",
              "    }\n",
              "\n",
              "    .colab-df-convert {\n",
              "      background-color: #E8F0FE;\n",
              "      border: none;\n",
              "      border-radius: 50%;\n",
              "      cursor: pointer;\n",
              "      display: none;\n",
              "      fill: #1967D2;\n",
              "      height: 32px;\n",
              "      padding: 0 0 0 0;\n",
              "      width: 32px;\n",
              "    }\n",
              "\n",
              "    .colab-df-convert:hover {\n",
              "      background-color: #E2EBFA;\n",
              "      box-shadow: 0px 1px 2px rgba(60, 64, 67, 0.3), 0px 1px 3px 1px rgba(60, 64, 67, 0.15);\n",
              "      fill: #174EA6;\n",
              "    }\n",
              "\n",
              "    .colab-df-buttons div {\n",
              "      margin-bottom: 4px;\n",
              "    }\n",
              "\n",
              "    [theme=dark] .colab-df-convert {\n",
              "      background-color: #3B4455;\n",
              "      fill: #D2E3FC;\n",
              "    }\n",
              "\n",
              "    [theme=dark] .colab-df-convert:hover {\n",
              "      background-color: #434B5C;\n",
              "      box-shadow: 0px 1px 3px 1px rgba(0, 0, 0, 0.15);\n",
              "      filter: drop-shadow(0px 1px 2px rgba(0, 0, 0, 0.3));\n",
              "      fill: #FFFFFF;\n",
              "    }\n",
              "  </style>\n",
              "\n",
              "    <script>\n",
              "      const buttonEl =\n",
              "        document.querySelector('#df-09720f72-a117-4624-8d48-044994e1aea2 button.colab-df-convert');\n",
              "      buttonEl.style.display =\n",
              "        google.colab.kernel.accessAllowed ? 'block' : 'none';\n",
              "\n",
              "      async function convertToInteractive(key) {\n",
              "        const element = document.querySelector('#df-09720f72-a117-4624-8d48-044994e1aea2');\n",
              "        const dataTable =\n",
              "          await google.colab.kernel.invokeFunction('convertToInteractive',\n",
              "                                                    [key], {});\n",
              "        if (!dataTable) return;\n",
              "\n",
              "        const docLinkHtml = 'Like what you see? Visit the ' +\n",
              "          '<a target=\"_blank\" href=https://colab.research.google.com/notebooks/data_table.ipynb>data table notebook</a>'\n",
              "          + ' to learn more about interactive tables.';\n",
              "        element.innerHTML = '';\n",
              "        dataTable['output_type'] = 'display_data';\n",
              "        await google.colab.output.renderOutput(dataTable, element);\n",
              "        const docLink = document.createElement('div');\n",
              "        docLink.innerHTML = docLinkHtml;\n",
              "        element.appendChild(docLink);\n",
              "      }\n",
              "    </script>\n",
              "  </div>\n",
              "\n",
              "\n",
              "<div id=\"df-62c0c649-4865-4f7c-adf4-00fb1fe9c9ee\">\n",
              "  <button class=\"colab-df-quickchart\" onclick=\"quickchart('df-62c0c649-4865-4f7c-adf4-00fb1fe9c9ee')\"\n",
              "            title=\"Suggest charts\"\n",
              "            style=\"display:none;\">\n",
              "\n",
              "<svg xmlns=\"http://www.w3.org/2000/svg\" height=\"24px\"viewBox=\"0 0 24 24\"\n",
              "     width=\"24px\">\n",
              "    <g>\n",
              "        <path d=\"M19 3H5c-1.1 0-2 .9-2 2v14c0 1.1.9 2 2 2h14c1.1 0 2-.9 2-2V5c0-1.1-.9-2-2-2zM9 17H7v-7h2v7zm4 0h-2V7h2v10zm4 0h-2v-4h2v4z\"/>\n",
              "    </g>\n",
              "</svg>\n",
              "  </button>\n",
              "\n",
              "<style>\n",
              "  .colab-df-quickchart {\n",
              "      --bg-color: #E8F0FE;\n",
              "      --fill-color: #1967D2;\n",
              "      --hover-bg-color: #E2EBFA;\n",
              "      --hover-fill-color: #174EA6;\n",
              "      --disabled-fill-color: #AAA;\n",
              "      --disabled-bg-color: #DDD;\n",
              "  }\n",
              "\n",
              "  [theme=dark] .colab-df-quickchart {\n",
              "      --bg-color: #3B4455;\n",
              "      --fill-color: #D2E3FC;\n",
              "      --hover-bg-color: #434B5C;\n",
              "      --hover-fill-color: #FFFFFF;\n",
              "      --disabled-bg-color: #3B4455;\n",
              "      --disabled-fill-color: #666;\n",
              "  }\n",
              "\n",
              "  .colab-df-quickchart {\n",
              "    background-color: var(--bg-color);\n",
              "    border: none;\n",
              "    border-radius: 50%;\n",
              "    cursor: pointer;\n",
              "    display: none;\n",
              "    fill: var(--fill-color);\n",
              "    height: 32px;\n",
              "    padding: 0;\n",
              "    width: 32px;\n",
              "  }\n",
              "\n",
              "  .colab-df-quickchart:hover {\n",
              "    background-color: var(--hover-bg-color);\n",
              "    box-shadow: 0 1px 2px rgba(60, 64, 67, 0.3), 0 1px 3px 1px rgba(60, 64, 67, 0.15);\n",
              "    fill: var(--button-hover-fill-color);\n",
              "  }\n",
              "\n",
              "  .colab-df-quickchart-complete:disabled,\n",
              "  .colab-df-quickchart-complete:disabled:hover {\n",
              "    background-color: var(--disabled-bg-color);\n",
              "    fill: var(--disabled-fill-color);\n",
              "    box-shadow: none;\n",
              "  }\n",
              "\n",
              "  .colab-df-spinner {\n",
              "    border: 2px solid var(--fill-color);\n",
              "    border-color: transparent;\n",
              "    border-bottom-color: var(--fill-color);\n",
              "    animation:\n",
              "      spin 1s steps(1) infinite;\n",
              "  }\n",
              "\n",
              "  @keyframes spin {\n",
              "    0% {\n",
              "      border-color: transparent;\n",
              "      border-bottom-color: var(--fill-color);\n",
              "      border-left-color: var(--fill-color);\n",
              "    }\n",
              "    20% {\n",
              "      border-color: transparent;\n",
              "      border-left-color: var(--fill-color);\n",
              "      border-top-color: var(--fill-color);\n",
              "    }\n",
              "    30% {\n",
              "      border-color: transparent;\n",
              "      border-left-color: var(--fill-color);\n",
              "      border-top-color: var(--fill-color);\n",
              "      border-right-color: var(--fill-color);\n",
              "    }\n",
              "    40% {\n",
              "      border-color: transparent;\n",
              "      border-right-color: var(--fill-color);\n",
              "      border-top-color: var(--fill-color);\n",
              "    }\n",
              "    60% {\n",
              "      border-color: transparent;\n",
              "      border-right-color: var(--fill-color);\n",
              "    }\n",
              "    80% {\n",
              "      border-color: transparent;\n",
              "      border-right-color: var(--fill-color);\n",
              "      border-bottom-color: var(--fill-color);\n",
              "    }\n",
              "    90% {\n",
              "      border-color: transparent;\n",
              "      border-bottom-color: var(--fill-color);\n",
              "    }\n",
              "  }\n",
              "</style>\n",
              "\n",
              "  <script>\n",
              "    async function quickchart(key) {\n",
              "      const quickchartButtonEl =\n",
              "        document.querySelector('#' + key + ' button');\n",
              "      quickchartButtonEl.disabled = true;  // To prevent multiple clicks.\n",
              "      quickchartButtonEl.classList.add('colab-df-spinner');\n",
              "      try {\n",
              "        const charts = await google.colab.kernel.invokeFunction(\n",
              "            'suggestCharts', [key], {});\n",
              "      } catch (error) {\n",
              "        console.error('Error during call to suggestCharts:', error);\n",
              "      }\n",
              "      quickchartButtonEl.classList.remove('colab-df-spinner');\n",
              "      quickchartButtonEl.classList.add('colab-df-quickchart-complete');\n",
              "    }\n",
              "    (() => {\n",
              "      let quickchartButtonEl =\n",
              "        document.querySelector('#df-62c0c649-4865-4f7c-adf4-00fb1fe9c9ee button');\n",
              "      quickchartButtonEl.style.display =\n",
              "        google.colab.kernel.accessAllowed ? 'block' : 'none';\n",
              "    })();\n",
              "  </script>\n",
              "</div>\n",
              "    </div>\n",
              "  </div>\n"
            ]
          },
          "metadata": {},
          "execution_count": 26
        }
      ]
    },
    {
      "cell_type": "markdown",
      "source": [
        "`Listing_Gains_Percent`: is the percentage gain in the listing price over the issue price. This is what interests us in this dataset. This variable will be necessary for our model."
      ],
      "metadata": {
        "id": "DNuog2ziqvhH"
      }
    },
    {
      "cell_type": "markdown",
      "source": [
        "####  Exploring the Data"
      ],
      "metadata": {
        "id": "B-WgX9BkrGsE"
      }
    },
    {
      "cell_type": "markdown",
      "source": [
        "`Listing_Gains_Percent` target variable is continous. Due to that, we have to convert it into a categorical variable before we can go further with this project."
      ],
      "metadata": {
        "id": "fvHUcKYlrP2r"
      }
    },
    {
      "cell_type": "code",
      "source": [
        "# Convering to Listing_Gains_Percent to categorical variable\n",
        "IPO['Listing_Gains_Profit'] = np.where(IPO['Listing_Gains_Percent'] > 0, 1, 0)"
      ],
      "metadata": {
        "id": "KGZRYdoDrI8P"
      },
      "execution_count": null,
      "outputs": []
    },
    {
      "cell_type": "code",
      "source": [
        "# Looking for missing values\n",
        "IPO.info()"
      ],
      "metadata": {
        "colab": {
          "base_uri": "https://localhost:8080/"
        },
        "id": "dhF8rVF7p6Jl",
        "outputId": "bd5e8649-f7a3-452a-9e94-25d131a13497"
      },
      "execution_count": null,
      "outputs": [
        {
          "output_type": "stream",
          "name": "stdout",
          "text": [
            "<class 'pandas.core.frame.DataFrame'>\n",
            "RangeIndex: 319 entries, 0 to 318\n",
            "Data columns (total 10 columns):\n",
            " #   Column                 Non-Null Count  Dtype  \n",
            "---  ------                 --------------  -----  \n",
            " 0   Date                   319 non-null    object \n",
            " 1   IPOName                319 non-null    object \n",
            " 2   Issue_Size             319 non-null    float64\n",
            " 3   Subscription_QIB       319 non-null    float64\n",
            " 4   Subscription_HNI       319 non-null    float64\n",
            " 5   Subscription_RII       319 non-null    float64\n",
            " 6   Subscription_Total     319 non-null    float64\n",
            " 7   Issue_Price            319 non-null    int64  \n",
            " 8   Listing_Gains_Percent  319 non-null    float64\n",
            " 9   Listing_Gains_Profit   319 non-null    int64  \n",
            "dtypes: float64(6), int64(2), object(2)\n",
            "memory usage: 25.0+ KB\n"
          ]
        }
      ]
    },
    {
      "cell_type": "markdown",
      "source": [
        "There are no null type values in the dataset, so we can assume there are no missing values.\n",
        "\n",
        "Looking at columns, we definately don't need `Date`, nor `IPOName`. We already created `Listing_Gains_profit`, so `Listing_Gains_Percent` won't be usefull any more. We will delete those columns."
      ],
      "metadata": {
        "id": "HXBYflqas-He"
      }
    },
    {
      "cell_type": "code",
      "source": [
        "# Dropping useless columns\n",
        "IPO = IPO.drop(['Date ', 'IPOName', 'Listing_Gains_Percent'], axis=1)\n",
        "IPO.info()"
      ],
      "metadata": {
        "colab": {
          "base_uri": "https://localhost:8080/"
        },
        "id": "8TFaJs02ty4p",
        "outputId": "e87fe064-a423-4b1b-ef89-9b6e1a0d74f3"
      },
      "execution_count": null,
      "outputs": [
        {
          "output_type": "stream",
          "name": "stdout",
          "text": [
            "<class 'pandas.core.frame.DataFrame'>\n",
            "RangeIndex: 319 entries, 0 to 318\n",
            "Data columns (total 7 columns):\n",
            " #   Column                Non-Null Count  Dtype  \n",
            "---  ------                --------------  -----  \n",
            " 0   Issue_Size            319 non-null    float64\n",
            " 1   Subscription_QIB      319 non-null    float64\n",
            " 2   Subscription_HNI      319 non-null    float64\n",
            " 3   Subscription_RII      319 non-null    float64\n",
            " 4   Subscription_Total    319 non-null    float64\n",
            " 5   Issue_Price           319 non-null    int64  \n",
            " 6   Listing_Gains_Profit  319 non-null    int64  \n",
            "dtypes: float64(5), int64(2)\n",
            "memory usage: 17.6 KB\n"
          ]
        }
      ]
    },
    {
      "cell_type": "code",
      "source": [
        "# Determining if an average IPO tends to list a profit\n",
        "IPO['Listing_Gains_Profit'].value_counts(normalize=True)"
      ],
      "metadata": {
        "colab": {
          "base_uri": "https://localhost:8080/"
        },
        "id": "m34luR2IuG6X",
        "outputId": "c1d30b58-8538-4eb9-daa5-61c9f9e4a606"
      },
      "execution_count": null,
      "outputs": [
        {
          "output_type": "execute_result",
          "data": {
            "text/plain": [
              "1    0.545455\n",
              "0    0.454545\n",
              "Name: Listing_Gains_Profit, dtype: float64"
            ]
          },
          "metadata": {},
          "execution_count": 31
        }
      ]
    },
    {
      "cell_type": "markdown",
      "source": [
        "Nearly 55% of the IPOs listed at a profit. Therefore, majority of IPOs seem to list a profit, but there is still a significant proportion that does not."
      ],
      "metadata": {
        "id": "pn9Qn3tUuzC5"
      }
    },
    {
      "cell_type": "markdown",
      "source": [
        "####  Data Visualization"
      ],
      "metadata": {
        "id": "k5Lf3rhTv4K9"
      }
    },
    {
      "cell_type": "markdown",
      "source": [
        "In this step we will visualise a data to have a better insight in distributions etc."
      ],
      "metadata": {
        "id": "jstgu7HLv-NA"
      }
    },
    {
      "cell_type": "code",
      "source": [
        "# Visualizing the distribution of a target variable\n",
        "sns.countplot(x='Listing_Gains_Profit', hue='Listing_Gains_Profit', data=IPO, palette=['red', 'green'])\n",
        "plt.title('Distribution of IPO Listing Profit')\n",
        "plt.xlabel('Listing Profit')\n",
        "plt.ylabel('Frequency')\n",
        "\n",
        "plt.legend(title='Profit', labels=['No Profit', 'Profit'], bbox_to_anchor=(1.25, 1), loc='upper right', borderaxespad=0., ncol=1)\n",
        "plt.show()"
      ],
      "metadata": {
        "colab": {
          "base_uri": "https://localhost:8080/",
          "height": 472
        },
        "id": "dKlqajLnu6Px",
        "outputId": "d34bd4ef-6d92-49bd-98c9-a22b4ffca7e8"
      },
      "execution_count": null,
      "outputs": [
        {
          "output_type": "display_data",
          "data": {
            "text/plain": [
              "<Figure size 640x480 with 1 Axes>"
            ],
            "image/png": "[encoded data removed]"
          },
          "metadata": {}
        }
      ]
    },
    {
      "cell_type": "markdown",
      "source": [
        "Now we will use plots to check for the presence of outliers in each of the continuous variables of the dataset."
      ],
      "metadata": {
        "id": "vHsKJoaBzicX"
      }
    },
    {
      "cell_type": "code",
      "source": [
        "sns.boxplot(data = IPO, y='Issue_Size')\n",
        "plt.title('Boxplot of Issue_Size')\n",
        "plt.show()"
      ],
      "metadata": {
        "colab": {
          "base_uri": "https://localhost:8080/",
          "height": 433
        },
        "id": "Ug4QVyknzkzE",
        "outputId": "2a52c1ad-955d-44e7-99cc-a701b74d5916"
      },
      "execution_count": null,
      "outputs": [
        {
          "output_type": "display_data",
          "data": {
            "text/plain": [
              "<Figure size 640x480 with 1 Axes>"
            ],
            "image/png": "[encoded data removed]"
          },
          "metadata": {}
        }
      ]
    },
    {
      "cell_type": "code",
      "source": [
        "sns.boxplot(data = IPO, y='Issue_Price')\n",
        "plt.title('Boxplot of Issue_Price')\n",
        "plt.show()"
      ],
      "metadata": {
        "colab": {
          "base_uri": "https://localhost:8080/",
          "height": 433
        },
        "id": "fzJbgUHr0J0k",
        "outputId": "f13d9a7b-e2fe-42ce-f260-8661c1012fea"
      },
      "execution_count": null,
      "outputs": [
        {
          "output_type": "display_data",
          "data": {
            "text/plain": [
              "<Figure size 640x480 with 1 Axes>"
            ],
            "image/png": "[encoded data removed]"
          },
          "metadata": {}
        }
      ]
    },
    {
      "cell_type": "code",
      "source": [
        "sns.boxplot(data = IPO, y='Subscription_Total')\n",
        "plt.title('Boxplot of Subscription_Total')\n",
        "plt.show()"
      ],
      "metadata": {
        "colab": {
          "base_uri": "https://localhost:8080/",
          "height": 433
        },
        "id": "rdiqioOf4Sfv",
        "outputId": "aa08ac85-c777-4b5b-9f0e-cb3cfb503a2c"
      },
      "execution_count": null,
      "outputs": [
        {
          "output_type": "display_data",
          "data": {
            "text/plain": [
              "<Figure size 640x480 with 1 Axes>"
            ],
            "image/png": "[encoded data removed]"
          },
          "metadata": {}
        }
      ]
    },
    {
      "cell_type": "code",
      "source": [
        "sns.boxplot(data = IPO, y='Subscription_QIB')\n",
        "plt.title('Boxplot of Subscription_QIB')\n",
        "plt.show()"
      ],
      "metadata": {
        "colab": {
          "base_uri": "https://localhost:8080/",
          "height": 433
        },
        "id": "IoN0o25j4c7X",
        "outputId": "ab0b430a-04b6-43d7-98b1-86d31cb75946"
      },
      "execution_count": null,
      "outputs": [
        {
          "output_type": "display_data",
          "data": {
            "text/plain": [
              "<Figure size 640x480 with 1 Axes>"
            ],
            "image/png": "[encoded data removed]"
          },
          "metadata": {}
        }
      ]
    },
    {
      "cell_type": "code",
      "source": [
        "sns.boxplot(data = IPO, y='Subscription_HNI')\n",
        "plt.title('Boxplot of Subscription_HNI')\n",
        "plt.show()"
      ],
      "metadata": {
        "colab": {
          "base_uri": "https://localhost:8080/",
          "height": 433
        },
        "id": "r7RJZhCq4mHA",
        "outputId": "45a14761-84e6-4b66-b41f-e0b9a6baf0cc"
      },
      "execution_count": null,
      "outputs": [
        {
          "output_type": "display_data",
          "data": {
            "text/plain": [
              "<Figure size 640x480 with 1 Axes>"
            ],
            "image/png": "[encoded data removed]"
          },
          "metadata": {}
        }
      ]
    },
    {
      "cell_type": "code",
      "source": [
        "sns.boxplot(data = IPO, y='Subscription_RII')\n",
        "plt.title('Boxplot of Subscription_RII')\n",
        "plt.show()"
      ],
      "metadata": {
        "colab": {
          "base_uri": "https://localhost:8080/",
          "height": 433
        },
        "id": "qynIerFr4qak",
        "outputId": "05c17979-6b9c-4f7e-80b6-87c69b110e1a"
      },
      "execution_count": null,
      "outputs": [
        {
          "output_type": "display_data",
          "data": {
            "text/plain": [
              "<Figure size 640x480 with 1 Axes>"
            ],
            "image/png": "[encoded data removed]"
          },
          "metadata": {}
        }
      ]
    },
    {
      "cell_type": "markdown",
      "source": [
        "There is a big amount of outliers in the data, that will need treatment. We will do something about it later."
      ],
      "metadata": {
        "id": "YkdX-sRt0hCu"
      }
    },
    {
      "cell_type": "code",
      "source": [
        "# Looking for corelations\n",
        "correlation_matrix = IPO.corr()\n",
        "\n",
        "correlation_with_profit = correlation_matrix['Listing_Gains_Profit']\n",
        "\n",
        "print(correlation_with_profit)\n"
      ],
      "metadata": {
        "colab": {
          "base_uri": "https://localhost:8080/"
        },
        "id": "z1BDu1CK1Htm",
        "outputId": "e3cd3f61-4055-48cf-9f44-f3937bdb39b7"
      },
      "execution_count": null,
      "outputs": [
        {
          "output_type": "stream",
          "name": "stdout",
          "text": [
            "Issue_Size              0.004717\n",
            "Subscription_QIB        0.323499\n",
            "Subscription_HNI        0.271879\n",
            "Subscription_RII        0.240842\n",
            "Subscription_Total      0.283340\n",
            "Issue_Price             0.039548\n",
            "Listing_Gains_Profit    1.000000\n",
            "Name: Listing_Gains_Profit, dtype: float64\n"
          ]
        }
      ]
    },
    {
      "cell_type": "markdown",
      "source": [
        "`Issue_Size` and `Issue_prize` don't look promising, but they need treatment, so we cannot be sure.\n",
        "\n",
        "`Substription_QIB` have the highest corelation, other subscription columns look promising too, but they might me correlated to each other. We will take a look on 2 that correlate with profit the most."
      ],
      "metadata": {
        "id": "Ro7EVZzM1VmY"
      }
    },
    {
      "cell_type": "markdown",
      "source": [],
      "metadata": {
        "id": "0WiKdkZr1Gyo"
      }
    },
    {
      "cell_type": "code",
      "source": [
        "sns.scatterplot(data = IPO, x='Subscription_QIB', y='Subscription_Total')\n",
        "plt.title('Scatterplot between Qualified Institutional Buyer and Total IPO Subscription')\n",
        "plt.show()"
      ],
      "metadata": {
        "colab": {
          "base_uri": "https://localhost:8080/",
          "height": 472
        },
        "id": "0kBbKhsW0sgK",
        "outputId": "c2551107-5c31-4104-c07f-f8edc3eae0f7"
      },
      "execution_count": null,
      "outputs": [
        {
          "output_type": "display_data",
          "data": {
            "text/plain": [
              "<Figure size 640x480 with 1 Axes>"
            ],
            "image/png": "[encoded data removed]"
          },
          "metadata": {}
        }
      ]
    },
    {
      "cell_type": "code",
      "source": [
        "correlation_matrix = IPO.corr()\n",
        "\n",
        "correlation_with_profit = correlation_matrix['Subscription_Total']\n",
        "\n",
        "print(correlation_with_profit)"
      ],
      "metadata": {
        "colab": {
          "base_uri": "https://localhost:8080/"
        },
        "id": "qdk7ONX_3YcP",
        "outputId": "4c86469b-a13c-4eb9-cded-26462e132b02"
      },
      "execution_count": null,
      "outputs": [
        {
          "output_type": "stream",
          "name": "stdout",
          "text": [
            "Issue_Size             -0.093351\n",
            "Subscription_QIB        0.815785\n",
            "Subscription_HNI        0.954816\n",
            "Subscription_RII        0.718738\n",
            "Subscription_Total      1.000000\n",
            "Issue_Price             0.051174\n",
            "Listing_Gains_Profit    0.283340\n",
            "Name: Subscription_Total, dtype: float64\n"
          ]
        }
      ]
    },
    {
      "cell_type": "markdown",
      "source": [
        "looks like there is a strong correlation, not only between Total and QIB, but between all Subscription columns.\n",
        "\n",
        "I'd say there are correlations that will let us build the model."
      ],
      "metadata": {
        "id": "KSQm05pM3hxm"
      }
    },
    {
      "cell_type": "markdown",
      "source": [
        "#### Outlier Treatment"
      ],
      "metadata": {
        "id": "dSttFisC3uZC"
      }
    },
    {
      "cell_type": "markdown",
      "source": [
        "In this step we will focus on treating the outliers in Issue_Size and Issue_prize."
      ],
      "metadata": {
        "id": "t7EGhilG3wHT"
      }
    },
    {
      "cell_type": "code",
      "source": [
        "import seaborn as sns\n",
        "import matplotlib.pyplot as plt\n",
        "\n",
        "# Setting 'Listing_Gains_Profit' as target variable\n",
        "target_variable = 'Listing_Gains_Profit'\n",
        "\n",
        "# Selecting numerical columns excluding the target variable\n",
        "numerical_columns = IPO.select_dtypes(include=['float64', 'int64']).columns\n",
        "numerical_columns = [col for col in numerical_columns if col != target_variable]\n",
        "\n",
        "for column in numerical_columns:\n",
        "    q1 = IPO[column].quantile(q=0.25)\n",
        "    q3 = IPO[column].quantile(q=0.75)\n",
        "    iqr = q3 - q1\n",
        "    lower_limit = q1 - 1.5 * iqr\n",
        "    upper_limit = q3 + 1.5 * iqr\n",
        "\n",
        "    IPO[column] = IPO[column].clip(lower_limit, upper_limit)\n",
        "\n",
        "# Visualize example after clipping\n",
        "sns.boxplot(data = IPO, y='Subscription_Total')\n",
        "plt.title('Boxplot of Subscription_Total')\n",
        "plt.show()\n",
        "\n",
        "# Displaying summary statistics for all clipped variables\n",
        "clipped_stats = IPO[numerical_columns].describe()\n",
        "print(clipped_stats)\n"
      ],
      "metadata": {
        "colab": {
          "base_uri": "https://localhost:8080/",
          "height": 763
        },
        "id": "HBykDrd_3qRc",
        "outputId": "1747387f-d328-425f-d0ad-1cf14d41ff0c"
      },
      "execution_count": null,
      "outputs": [
        {
          "output_type": "display_data",
          "data": {
            "text/plain": [
              "<Figure size 640x480 with 1 Axes>"
            ],
            "image/png": "[encoded data removed]"
          },
          "metadata": {}
        },
        {
          "output_type": "stream",
          "name": "stdout",
          "text": [
            "        Issue_Size  Subscription_QIB  Subscription_HNI  Subscription_RII  \\\n",
            "count   319.000000        319.000000        319.000000        319.000000   \n",
            "mean    763.561238         21.521183         40.356426          6.060940   \n",
            "std     769.689122         29.104549         57.427921          6.176882   \n",
            "min       0.000000          0.000000          0.000000          0.000000   \n",
            "25%     169.005000          1.150000          1.255000          1.275000   \n",
            "50%     496.250000          4.940000          5.070000          3.420000   \n",
            "75%    1100.000000         34.635000         62.095000          8.605000   \n",
            "max    2496.492500         84.862500        153.355000         19.600000   \n",
            "\n",
            "       Subscription_Total  Issue_Price  \n",
            "count          319.000000   319.000000  \n",
            "mean            20.456646   362.147335  \n",
            "std             27.217740   312.272967  \n",
            "min              0.000000     0.000000  \n",
            "25%              1.645000   119.000000  \n",
            "50%              4.930000   250.000000  \n",
            "75%             33.395000   536.000000  \n",
            "max             81.020000  1161.500000  \n"
          ]
        }
      ]
    },
    {
      "cell_type": "markdown",
      "source": [
        "#### Setting the Target and Predictor Variables"
      ],
      "metadata": {
        "id": "EwsWpKRi7Bjv"
      }
    },
    {
      "cell_type": "markdown",
      "source": [
        "I've already set the target variable to perform outlier treatment in loop, so we will only set predictior variables in this step"
      ],
      "metadata": {
        "id": "dSOCsgb07JDs"
      }
    },
    {
      "cell_type": "code",
      "source": [
        "# Creating variable that contains predictors\n",
        "predictors = list(set(list(IPO.columns)) - set(target_variable))\n",
        "\n",
        "# Performing normalization on predictors\n",
        "IPO[predictors] = IPO[predictors]/IPO[predictors].max()\n",
        "\n",
        "# Summarizing statistics\n",
        "IPO.describe()"
      ],
      "metadata": {
        "colab": {
          "base_uri": "https://localhost:8080/",
          "height": 300
        },
        "id": "8H-vk97l7Cxo",
        "outputId": "8cb23bfe-5eb7-4147-e625-cb0549b1be23"
      },
      "execution_count": null,
      "outputs": [
        {
          "output_type": "execute_result",
          "data": {
            "text/plain": [
              "       Issue_Size  Subscription_QIB  Subscription_HNI  Subscription_RII  \\\n",
              "count  319.000000        319.000000        319.000000        319.000000   \n",
              "mean     0.305854          0.253601          0.263157          0.309232   \n",
              "std      0.308308          0.342961          0.374477          0.315147   \n",
              "min      0.000000          0.000000          0.000000          0.000000   \n",
              "25%      0.067697          0.013551          0.008184          0.065051   \n",
              "50%      0.198779          0.058212          0.033061          0.174490   \n",
              "75%      0.440618          0.408131          0.404910          0.439031   \n",
              "max      1.000000          1.000000          1.000000          1.000000   \n",
              "\n",
              "       Subscription_Total  Issue_Price  Listing_Gains_Profit  \n",
              "count          319.000000   319.000000            319.000000  \n",
              "mean             0.252489     0.311793              0.545455  \n",
              "std              0.335939     0.268853              0.498712  \n",
              "min              0.000000     0.000000              0.000000  \n",
              "25%              0.020304     0.102454              0.000000  \n",
              "50%              0.060849     0.215239              1.000000  \n",
              "75%              0.412182     0.461472              1.000000  \n",
              "max              1.000000     1.000000              1.000000  "
            ],
            "text/html": [
              "\n",
              "  <div id=\"df-6c34e766-0a71-4afe-8d7b-103289b798c7\" class=\"colab-df-container\">\n",
              "    <div>\n",
              "<style scoped>\n",
              "    .dataframe tbody tr th:only-of-type {\n",
              "        vertical-align: middle;\n",
              "    }\n",
              "\n",
              "    .dataframe tbody tr th {\n",
              "        vertical-align: top;\n",
              "    }\n",
              "\n",
              "    .dataframe thead th {\n",
              "        text-align: right;\n",
              "    }\n",
              "</style>\n",
              "<table border=\"1\" class=\"dataframe\">\n",
              "  <thead>\n",
              "    <tr style=\"text-align: right;\">\n",
              "      <th></th>\n",
              "      <th>Issue_Size</th>\n",
              "      <th>Subscription_QIB</th>\n",
              "      <th>Subscription_HNI</th>\n",
              "      <th>Subscription_RII</th>\n",
              "      <th>Subscription_Total</th>\n",
              "      <th>Issue_Price</th>\n",
              "      <th>Listing_Gains_Profit</th>\n",
              "    </tr>\n",
              "  </thead>\n",
              "  <tbody>\n",
              "    <tr>\n",
              "      <th>count</th>\n",
              "      <td>319.000000</td>\n",
              "      <td>319.000000</td>\n",
              "      <td>319.000000</td>\n",
              "      <td>319.000000</td>\n",
              "      <td>319.000000</td>\n",
              "      <td>319.000000</td>\n",
              "      <td>319.000000</td>\n",
              "    </tr>\n",
              "    <tr>\n",
              "      <th>mean</th>\n",
              "      <td>0.305854</td>\n",
              "      <td>0.253601</td>\n",
              "      <td>0.263157</td>\n",
              "      <td>0.309232</td>\n",
              "      <td>0.252489</td>\n",
              "      <td>0.311793</td>\n",
              "      <td>0.545455</td>\n",
              "    </tr>\n",
              "    <tr>\n",
              "      <th>std</th>\n",
              "      <td>0.308308</td>\n",
              "      <td>0.342961</td>\n",
              "      <td>0.374477</td>\n",
              "      <td>0.315147</td>\n",
              "      <td>0.335939</td>\n",
              "      <td>0.268853</td>\n",
              "      <td>0.498712</td>\n",
              "    </tr>\n",
              "    <tr>\n",
              "      <th>min</th>\n",
              "      <td>0.000000</td>\n",
              "      <td>0.000000</td>\n",
              "      <td>0.000000</td>\n",
              "      <td>0.000000</td>\n",
              "      <td>0.000000</td>\n",
              "      <td>0.000000</td>\n",
              "      <td>0.000000</td>\n",
              "    </tr>\n",
              "    <tr>\n",
              "      <th>25%</th>\n",
              "      <td>0.067697</td>\n",
              "      <td>0.013551</td>\n",
              "      <td>0.008184</td>\n",
              "      <td>0.065051</td>\n",
              "      <td>0.020304</td>\n",
              "      <td>0.102454</td>\n",
              "      <td>0.000000</td>\n",
              "    </tr>\n",
              "    <tr>\n",
              "      <th>50%</th>\n",
              "      <td>0.198779</td>\n",
              "      <td>0.058212</td>\n",
              "      <td>0.033061</td>\n",
              "      <td>0.174490</td>\n",
              "      <td>0.060849</td>\n",
              "      <td>0.215239</td>\n",
              "      <td>1.000000</td>\n",
              "    </tr>\n",
              "    <tr>\n",
              "      <th>75%</th>\n",
              "      <td>0.440618</td>\n",
              "      <td>0.408131</td>\n",
              "      <td>0.404910</td>\n",
              "      <td>0.439031</td>\n",
              "      <td>0.412182</td>\n",
              "      <td>0.461472</td>\n",
              "      <td>1.000000</td>\n",
              "    </tr>\n",
              "    <tr>\n",
              "      <th>max</th>\n",
              "      <td>1.000000</td>\n",
              "      <td>1.000000</td>\n",
              "      <td>1.000000</td>\n",
              "      <td>1.000000</td>\n",
              "      <td>1.000000</td>\n",
              "      <td>1.000000</td>\n",
              "      <td>1.000000</td>\n",
              "    </tr>\n",
              "  </tbody>\n",
              "</table>\n",
              "</div>\n",
              "    <div class=\"colab-df-buttons\">\n",
              "\n",
              "  <div class=\"colab-df-container\">\n",
              "    <button class=\"colab-df-convert\" onclick=\"convertToInteractive('df-6c34e766-0a71-4afe-8d7b-103289b798c7')\"\n",
              "            title=\"Convert this dataframe to an interactive table.\"\n",
              "            style=\"display:none;\">\n",
              "\n",
              "  <svg xmlns=\"http://www.w3.org/2000/svg\" height=\"24px\" viewBox=\"0 -960 960 960\">\n",
              "    <path d=\"M120-120v-720h720v720H120Zm60-500h600v-160H180v160Zm220 220h160v-160H400v160Zm0 220h160v-160H400v160ZM180-400h160v-160H180v160Zm440 0h160v-160H620v160ZM180-180h160v-160H180v160Zm440 0h160v-160H620v160Z\"/>\n",
              "  </svg>\n",
              "    </button>\n",
              "\n",
              "  <style>\n",
              "    .colab-df-container {\n",
              "      display:flex;\n",
              "      gap: 12px;\n",
              "    }\n",
              "\n",
              "    .colab-df-convert {\n",
              "      background-color: #E8F0FE;\n",
              "      border: none;\n",
              "      border-radius: 50%;\n",
              "      cursor: pointer;\n",
              "      display: none;\n",
              "      fill: #1967D2;\n",
              "      height: 32px;\n",
              "      padding: 0 0 0 0;\n",
              "      width: 32px;\n",
              "    }\n",
              "\n",
              "    .colab-df-convert:hover {\n",
              "      background-color: #E2EBFA;\n",
              "      box-shadow: 0px 1px 2px rgba(60, 64, 67, 0.3), 0px 1px 3px 1px rgba(60, 64, 67, 0.15);\n",
              "      fill: #174EA6;\n",
              "    }\n",
              "\n",
              "    .colab-df-buttons div {\n",
              "      margin-bottom: 4px;\n",
              "    }\n",
              "\n",
              "    [theme=dark] .colab-df-convert {\n",
              "      background-color: #3B4455;\n",
              "      fill: #D2E3FC;\n",
              "    }\n",
              "\n",
              "    [theme=dark] .colab-df-convert:hover {\n",
              "      background-color: #434B5C;\n",
              "      box-shadow: 0px 1px 3px 1px rgba(0, 0, 0, 0.15);\n",
              "      filter: drop-shadow(0px 1px 2px rgba(0, 0, 0, 0.3));\n",
              "      fill: #FFFFFF;\n",
              "    }\n",
              "  </style>\n",
              "\n",
              "    <script>\n",
              "      const buttonEl =\n",
              "        document.querySelector('#df-6c34e766-0a71-4afe-8d7b-103289b798c7 button.colab-df-convert');\n",
              "      buttonEl.style.display =\n",
              "        google.colab.kernel.accessAllowed ? 'block' : 'none';\n",
              "\n",
              "      async function convertToInteractive(key) {\n",
              "        const element = document.querySelector('#df-6c34e766-0a71-4afe-8d7b-103289b798c7');\n",
              "        const dataTable =\n",
              "          await google.colab.kernel.invokeFunction('convertToInteractive',\n",
              "                                                    [key], {});\n",
              "        if (!dataTable) return;\n",
              "\n",
              "        const docLinkHtml = 'Like what you see? Visit the ' +\n",
              "          '<a target=\"_blank\" href=https://colab.research.google.com/notebooks/data_table.ipynb>data table notebook</a>'\n",
              "          + ' to learn more about interactive tables.';\n",
              "        element.innerHTML = '';\n",
              "        dataTable['output_type'] = 'display_data';\n",
              "        await google.colab.output.renderOutput(dataTable, element);\n",
              "        const docLink = document.createElement('div');\n",
              "        docLink.innerHTML = docLinkHtml;\n",
              "        element.appendChild(docLink);\n",
              "      }\n",
              "    </script>\n",
              "  </div>\n",
              "\n",
              "\n",
              "<div id=\"df-a09f1958-337a-49a7-bda5-c890836a07bb\">\n",
              "  <button class=\"colab-df-quickchart\" onclick=\"quickchart('df-a09f1958-337a-49a7-bda5-c890836a07bb')\"\n",
              "            title=\"Suggest charts\"\n",
              "            style=\"display:none;\">\n",
              "\n",
              "<svg xmlns=\"http://www.w3.org/2000/svg\" height=\"24px\"viewBox=\"0 0 24 24\"\n",
              "     width=\"24px\">\n",
              "    <g>\n",
              "        <path d=\"M19 3H5c-1.1 0-2 .9-2 2v14c0 1.1.9 2 2 2h14c1.1 0 2-.9 2-2V5c0-1.1-.9-2-2-2zM9 17H7v-7h2v7zm4 0h-2V7h2v10zm4 0h-2v-4h2v4z\"/>\n",
              "    </g>\n",
              "</svg>\n",
              "  </button>\n",
              "\n",
              "<style>\n",
              "  .colab-df-quickchart {\n",
              "      --bg-color: #E8F0FE;\n",
              "      --fill-color: #1967D2;\n",
              "      --hover-bg-color: #E2EBFA;\n",
              "      --hover-fill-color: #174EA6;\n",
              "      --disabled-fill-color: #AAA;\n",
              "      --disabled-bg-color: #DDD;\n",
              "  }\n",
              "\n",
              "  [theme=dark] .colab-df-quickchart {\n",
              "      --bg-color: #3B4455;\n",
              "      --fill-color: #D2E3FC;\n",
              "      --hover-bg-color: #434B5C;\n",
              "      --hover-fill-color: #FFFFFF;\n",
              "      --disabled-bg-color: #3B4455;\n",
              "      --disabled-fill-color: #666;\n",
              "  }\n",
              "\n",
              "  .colab-df-quickchart {\n",
              "    background-color: var(--bg-color);\n",
              "    border: none;\n",
              "    border-radius: 50%;\n",
              "    cursor: pointer;\n",
              "    display: none;\n",
              "    fill: var(--fill-color);\n",
              "    height: 32px;\n",
              "    padding: 0;\n",
              "    width: 32px;\n",
              "  }\n",
              "\n",
              "  .colab-df-quickchart:hover {\n",
              "    background-color: var(--hover-bg-color);\n",
              "    box-shadow: 0 1px 2px rgba(60, 64, 67, 0.3), 0 1px 3px 1px rgba(60, 64, 67, 0.15);\n",
              "    fill: var(--button-hover-fill-color);\n",
              "  }\n",
              "\n",
              "  .colab-df-quickchart-complete:disabled,\n",
              "  .colab-df-quickchart-complete:disabled:hover {\n",
              "    background-color: var(--disabled-bg-color);\n",
              "    fill: var(--disabled-fill-color);\n",
              "    box-shadow: none;\n",
              "  }\n",
              "\n",
              "  .colab-df-spinner {\n",
              "    border: 2px solid var(--fill-color);\n",
              "    border-color: transparent;\n",
              "    border-bottom-color: var(--fill-color);\n",
              "    animation:\n",
              "      spin 1s steps(1) infinite;\n",
              "  }\n",
              "\n",
              "  @keyframes spin {\n",
              "    0% {\n",
              "      border-color: transparent;\n",
              "      border-bottom-color: var(--fill-color);\n",
              "      border-left-color: var(--fill-color);\n",
              "    }\n",
              "    20% {\n",
              "      border-color: transparent;\n",
              "      border-left-color: var(--fill-color);\n",
              "      border-top-color: var(--fill-color);\n",
              "    }\n",
              "    30% {\n",
              "      border-color: transparent;\n",
              "      border-left-color: var(--fill-color);\n",
              "      border-top-color: var(--fill-color);\n",
              "      border-right-color: var(--fill-color);\n",
              "    }\n",
              "    40% {\n",
              "      border-color: transparent;\n",
              "      border-right-color: var(--fill-color);\n",
              "      border-top-color: var(--fill-color);\n",
              "    }\n",
              "    60% {\n",
              "      border-color: transparent;\n",
              "      border-right-color: var(--fill-color);\n",
              "    }\n",
              "    80% {\n",
              "      border-color: transparent;\n",
              "      border-right-color: var(--fill-color);\n",
              "      border-bottom-color: var(--fill-color);\n",
              "    }\n",
              "    90% {\n",
              "      border-color: transparent;\n",
              "      border-bottom-color: var(--fill-color);\n",
              "    }\n",
              "  }\n",
              "</style>\n",
              "\n",
              "  <script>\n",
              "    async function quickchart(key) {\n",
              "      const quickchartButtonEl =\n",
              "        document.querySelector('#' + key + ' button');\n",
              "      quickchartButtonEl.disabled = true;  // To prevent multiple clicks.\n",
              "      quickchartButtonEl.classList.add('colab-df-spinner');\n",
              "      try {\n",
              "        const charts = await google.colab.kernel.invokeFunction(\n",
              "            'suggestCharts', [key], {});\n",
              "      } catch (error) {\n",
              "        console.error('Error during call to suggestCharts:', error);\n",
              "      }\n",
              "      quickchartButtonEl.classList.remove('colab-df-spinner');\n",
              "      quickchartButtonEl.classList.add('colab-df-quickchart-complete');\n",
              "    }\n",
              "    (() => {\n",
              "      let quickchartButtonEl =\n",
              "        document.querySelector('#df-a09f1958-337a-49a7-bda5-c890836a07bb button');\n",
              "      quickchartButtonEl.style.display =\n",
              "        google.colab.kernel.accessAllowed ? 'block' : 'none';\n",
              "    })();\n",
              "  </script>\n",
              "</div>\n",
              "    </div>\n",
              "  </div>\n"
            ]
          },
          "metadata": {},
          "execution_count": 71
        }
      ]
    },
    {
      "cell_type": "markdown",
      "source": [
        "We created varaible `target_variable` that contains target variable and `predictors` containing predictor variables, on which we performed normalization."
      ],
      "metadata": {
        "id": "j8hxSzYG8p9Q"
      }
    },
    {
      "cell_type": "markdown",
      "source": [
        "#### Creating the Holdout Validation Approach"
      ],
      "metadata": {
        "id": "tmSINzji8-cy"
      }
    },
    {
      "cell_type": "markdown",
      "source": [
        "In this step we are going to decide which model validation approach to use. The most common way is 70:30 train to test ratio, but the correlations here might not be great and i want to add validation to determine if model is well fitted, as it makes training set smaller, I'll go for 80:20.\n"
      ],
      "metadata": {
        "id": "hnciHL-39KYb"
      }
    },
    {
      "cell_type": "code",
      "source": [
        "X = IPO[predictors].values\n",
        "y = IPO[target_variable].values\n",
        "\n",
        "# Setting test set size\n",
        "X_train, X_test, y_train, y_test = train_test_split(X, y, test_size=0.2, random_state=100)\n",
        "print(X_train.shape); print(X_test.shape)"
      ],
      "metadata": {
        "colab": {
          "base_uri": "https://localhost:8080/"
        },
        "id": "h00ibGbp8684",
        "outputId": "82f0ef02-2b1b-4629-a8ab-77ccc738cd78"
      },
      "execution_count": null,
      "outputs": [
        {
          "output_type": "stream",
          "name": "stdout",
          "text": [
            "(255, 7)\n",
            "(64, 7)\n"
          ]
        }
      ]
    },
    {
      "cell_type": "code",
      "source": [
        "# Setting validation set size\n",
        "X_train, X_val, y_train, y_val = train_test_split(X_train, y_train, test_size=0.2, random_state=100)"
      ],
      "metadata": {
        "id": "KOkPVWPuLMWc"
      },
      "execution_count": null,
      "outputs": []
    },
    {
      "cell_type": "code",
      "source": [
        "# Printing shapes to determine if ratio looks fine\n",
        "print(X_train.shape); print(X_test.shape); print(X_val.shape)"
      ],
      "metadata": {
        "colab": {
          "base_uri": "https://localhost:8080/"
        },
        "id": "u_ZaK0mh-LSb",
        "outputId": "c65c9561-e6f0-44f5-ff96-eace30d3a95d"
      },
      "execution_count": null,
      "outputs": [
        {
          "output_type": "stream",
          "name": "stdout",
          "text": [
            "(204, 7)\n",
            "(64, 7)\n",
            "(51, 7)\n"
          ]
        }
      ]
    },
    {
      "cell_type": "markdown",
      "source": [
        "Everything looks fine here."
      ],
      "metadata": {
        "id": "MYYT3fzr-gog"
      }
    },
    {
      "cell_type": "markdown",
      "source": [
        "#### Define the Deep Learning Classification Model"
      ],
      "metadata": {
        "id": "jnzh66_9_GQh"
      }
    },
    {
      "cell_type": "markdown",
      "source": [
        "In this step we will perform all steps in model defining."
      ],
      "metadata": {
        "id": "lKK8Heqt_Hk_"
      }
    },
    {
      "cell_type": "code",
      "source": [
        "# Setting seed\n",
        "tf.random.set_seed(777)\n",
        "\n",
        "# Initializing a sequential model\n",
        "model = tf.keras.Sequential()\n",
        "\n",
        "# Dense layers\n",
        "model.add(tf.keras.layers.Dense(8, input_shape=(X_train.shape[1],), activation='relu'))\n",
        "model.add(tf.keras.layers.Dense(16, activation='relu'))\n",
        "model.add(tf.keras.layers.Dense(32, activation='relu'))\n",
        "model.add(tf.keras.layers.Dense(64, activation='relu'))\n",
        "model.add(tf.keras.layers.Dense(128, activation='relu'))\n",
        "\n",
        "# Output layer\n",
        "model.add(tf.keras.layers.Dense(1, activation='sigmoid'))"
      ],
      "metadata": {
        "id": "3KPnPKoi-PJh"
      },
      "execution_count": null,
      "outputs": []
    },
    {
      "cell_type": "markdown",
      "source": [
        "I decided to go for a increasing units due to the fact that there is not a lot of data in the dataset to perform training on.\n",
        "\n",
        "Use of relu function was made due to it's speed and pretty high effectivness. I am also most used to them cause i mainly use them in my CNN project, so i just got used to it.\n",
        "\n",
        "Use of sigmoid function in the output layer is determined by the fact that it is widely used for binominal classification. Unit 1 in this case is used due to the fact that we are working with binary classification in this case.\n",
        "\n",
        "In the end of the day, it is neural network and we can(and in most cases should) adjust it after the training, because it is pretty much impossible to predict the exact results. If it will overfit, we can lower theunits or delete some layers. If it undefits, we can add more layers or higher units, add batch normalization, dropout layers, data augmentaion etc. If it works good but slow we should work on it too. There is a lot of space to experiment in order to create the best performing model we can.\n",
        "\n",
        "The most important things about Neural Netowrks while working on my CNN project is that: the best approach is to try different approaches to see what works the best for our case. It takes a lot of time, but it is the only way we can be sure that we created the best thing possible."
      ],
      "metadata": {
        "id": "eJ8b_Fz1CD5n"
      }
    },
    {
      "cell_type": "markdown",
      "source": [
        "#### Compile and Train the model"
      ],
      "metadata": {
        "id": "hQSuTp6UGkuX"
      }
    },
    {
      "cell_type": "markdown",
      "source": [
        "We got our model defined and now it is time to compile and train it."
      ],
      "metadata": {
        "id": "vxQpU4aTGoVy"
      }
    },
    {
      "cell_type": "code",
      "source": [
        "model.compile(optimizer='adam',\n",
        "              loss='binary_crossentropy',\n",
        "              metrics=['accuracy'])"
      ],
      "metadata": {
        "id": "dG98G2rhGhH7"
      },
      "execution_count": null,
      "outputs": []
    },
    {
      "cell_type": "code",
      "source": [
        "print(model.summary())"
      ],
      "metadata": {
        "colab": {
          "base_uri": "https://localhost:8080/"
        },
        "id": "yI-uU1EMITfJ",
        "outputId": "8ad437b8-af8d-4cfe-b721-a53ca94a2d23"
      },
      "execution_count": null,
      "outputs": [
        {
          "output_type": "stream",
          "name": "stdout",
          "text": [
            "Model: \"sequential_3\"\n",
            "_________________________________________________________________\n",
            " Layer (type)                Output Shape              Param #   \n",
            "=================================================================\n",
            " dense_18 (Dense)            (None, 8)                 64        \n",
            "                                                                 \n",
            " dense_19 (Dense)            (None, 16)                144       \n",
            "                                                                 \n",
            " dense_20 (Dense)            (None, 32)                544       \n",
            "                                                                 \n",
            " dense_21 (Dense)            (None, 64)                2112      \n",
            "                                                                 \n",
            " dense_22 (Dense)            (None, 128)               8320      \n",
            "                                                                 \n",
            " dense_23 (Dense)            (None, 1)                 129       \n",
            "                                                                 \n",
            "=================================================================\n",
            "Total params: 11313 (44.19 KB)\n",
            "Trainable params: 11313 (44.19 KB)\n",
            "Non-trainable params: 0 (0.00 Byte)\n",
            "_________________________________________________________________\n",
            "None\n"
          ]
        }
      ]
    },
    {
      "cell_type": "code",
      "source": [
        "model.fit(X_train, y_train, epochs=7,\n",
        "          validation_data=(X_val, y_val))"
      ],
      "metadata": {
        "colab": {
          "base_uri": "https://localhost:8080/"
        },
        "id": "CfNfFfj4IUAc",
        "outputId": "e95096b9-fd6c-49f9-fb47-862e471fd0a8"
      },
      "execution_count": null,
      "outputs": [
        {
          "output_type": "stream",
          "name": "stdout",
          "text": [
            "Epoch 1/7\n",
            "7/7 [==============================] - 2s 57ms/step - loss: 0.6633 - accuracy: 0.6078 - val_loss: 0.6471 - val_accuracy: 0.5490\n",
            "Epoch 2/7\n",
            "7/7 [==============================] - 0s 13ms/step - loss: 0.6114 - accuracy: 0.6078 - val_loss: 0.6120 - val_accuracy: 0.6667\n",
            "Epoch 3/7\n",
            "7/7 [==============================] - 0s 12ms/step - loss: 0.5601 - accuracy: 0.7941 - val_loss: 0.5754 - val_accuracy: 0.8039\n",
            "Epoch 4/7\n",
            "7/7 [==============================] - 0s 14ms/step - loss: 0.4983 - accuracy: 0.8824 - val_loss: 0.5366 - val_accuracy: 0.8235\n",
            "Epoch 5/7\n",
            "7/7 [==============================] - 0s 12ms/step - loss: 0.4449 - accuracy: 0.9216 - val_loss: 0.4941 - val_accuracy: 0.8431\n",
            "Epoch 6/7\n",
            "7/7 [==============================] - 0s 13ms/step - loss: 0.3817 - accuracy: 0.9314 - val_loss: 0.4150 - val_accuracy: 0.8824\n",
            "Epoch 7/7\n",
            "7/7 [==============================] - 0s 15ms/step - loss: 0.3056 - accuracy: 0.9461 - val_loss: 0.2929 - val_accuracy: 0.9216\n"
          ]
        },
        {
          "output_type": "execute_result",
          "data": {
            "text/plain": [
              "<keras.src.callbacks.History at 0x7a6d303079a0>"
            ]
          },
          "metadata": {},
          "execution_count": 107
        }
      ]
    },
    {
      "cell_type": "markdown",
      "source": [
        "It looks pretty well for our data. Accuracy is 0.94 and validation accuracy is also 0.94. While val_accuracy is not much lower than accurace it doesn't suggest overfitting.\n",
        "\n",
        "Loss decreases and val_loss also decreases. If val_loss would start increasing while loss was still decreasing we could talk about overfitting. In this case this problem does not occur.\n",
        "\n",
        "In the end we will check how it works on test set, but as we deleted outliers it is possible to achieve 100%(which normally can suggest overfitting) we will therefore push the model for one more epoch to get 100% and check how it works on test set."
      ],
      "metadata": {
        "id": "mpnU0T73MyTw"
      }
    },
    {
      "cell_type": "code",
      "source": [
        "model.fit(X_train, y_train, epochs=1,\n",
        "          validation_data=(X_val, y_val))"
      ],
      "metadata": {
        "colab": {
          "base_uri": "https://localhost:8080/"
        },
        "id": "tgP2uUAtSFSY",
        "outputId": "1696db31-257b-4e4d-8970-092d7d03c1c9"
      },
      "execution_count": null,
      "outputs": [
        {
          "output_type": "stream",
          "name": "stdout",
          "text": [
            "7/7 [==============================] - 0s 17ms/step - loss: 0.2154 - accuracy: 0.9706 - val_loss: 0.1797 - val_accuracy: 0.9412\n"
          ]
        },
        {
          "output_type": "execute_result",
          "data": {
            "text/plain": [
              "<keras.src.callbacks.History at 0x7a6d2f5365c0>"
            ]
          },
          "metadata": {},
          "execution_count": 108
        }
      ]
    },
    {
      "cell_type": "code",
      "source": [
        "model.fit(X_train, y_train, epochs=1,\n",
        "          validation_data=(X_val, y_val))"
      ],
      "metadata": {
        "colab": {
          "base_uri": "https://localhost:8080/"
        },
        "id": "9UVztcozSJHr",
        "outputId": "a873c967-cad6-46df-97d1-ad047ea21073"
      },
      "execution_count": null,
      "outputs": [
        {
          "output_type": "stream",
          "name": "stdout",
          "text": [
            "7/7 [==============================] - 0s 16ms/step - loss: 0.1288 - accuracy: 0.9804 - val_loss: 0.0938 - val_accuracy: 0.9804\n"
          ]
        },
        {
          "output_type": "execute_result",
          "data": {
            "text/plain": [
              "<keras.src.callbacks.History at 0x7a6d2c2d1e70>"
            ]
          },
          "metadata": {},
          "execution_count": 109
        }
      ]
    },
    {
      "cell_type": "code",
      "source": [
        "model.fit(X_train, y_train, epochs=1,\n",
        "          validation_data=(X_val, y_val))"
      ],
      "metadata": {
        "colab": {
          "base_uri": "https://localhost:8080/"
        },
        "id": "UEzobM7QSOYS",
        "outputId": "7ed9fc66-8bfc-459c-f0e8-a1682fdbdb47"
      },
      "execution_count": null,
      "outputs": [
        {
          "output_type": "stream",
          "name": "stdout",
          "text": [
            "7/7 [==============================] - 0s 25ms/step - loss: 0.0673 - accuracy: 0.9902 - val_loss: 0.0424 - val_accuracy: 1.0000\n"
          ]
        },
        {
          "output_type": "execute_result",
          "data": {
            "text/plain": [
              "<keras.src.callbacks.History at 0x7a6d2f65e6e0>"
            ]
          },
          "metadata": {},
          "execution_count": 110
        }
      ]
    },
    {
      "cell_type": "code",
      "source": [
        "model.fit(X_train, y_train, epochs=1,\n",
        "          validation_data=(X_val, y_val))"
      ],
      "metadata": {
        "colab": {
          "base_uri": "https://localhost:8080/"
        },
        "id": "YgTA9pVbSQ1j",
        "outputId": "f165cb1b-8df7-4e39-9c9e-52bd6d7d7d19"
      },
      "execution_count": null,
      "outputs": [
        {
          "output_type": "stream",
          "name": "stdout",
          "text": [
            "7/7 [==============================] - 0s 40ms/step - loss: 0.0334 - accuracy: 0.9951 - val_loss: 0.0195 - val_accuracy: 1.0000\n"
          ]
        },
        {
          "output_type": "execute_result",
          "data": {
            "text/plain": [
              "<keras.src.callbacks.History at 0x7a6d2c2d1cc0>"
            ]
          },
          "metadata": {},
          "execution_count": 111
        }
      ]
    },
    {
      "cell_type": "code",
      "source": [
        "model.fit(X_train, y_train, epochs=1,\n",
        "          validation_data=(X_val, y_val))"
      ],
      "metadata": {
        "colab": {
          "base_uri": "https://localhost:8080/"
        },
        "id": "W1RRtMmMSjwG",
        "outputId": "efec511d-c7b0-4089-8db4-0afac71e5062"
      },
      "execution_count": null,
      "outputs": [
        {
          "output_type": "stream",
          "name": "stdout",
          "text": [
            "7/7 [==============================] - 0s 47ms/step - loss: 0.0168 - accuracy: 1.0000 - val_loss: 0.0098 - val_accuracy: 1.0000\n"
          ]
        },
        {
          "output_type": "execute_result",
          "data": {
            "text/plain": [
              "<keras.src.callbacks.History at 0x7a6d30280f40>"
            ]
          },
          "metadata": {},
          "execution_count": 112
        }
      ]
    },
    {
      "cell_type": "markdown",
      "source": [
        "We got to 100% and losses looks fine so let's try if the model predicts well."
      ],
      "metadata": {
        "id": "Fjvi429JSWAa"
      }
    },
    {
      "cell_type": "markdown",
      "source": [
        "#### Model Evaluation"
      ],
      "metadata": {
        "id": "t0kHrEJ_Pblz"
      }
    },
    {
      "cell_type": "markdown",
      "source": [
        "As I've already monitored it during the training process and compared to the validation which I added, so I already know the model is not overfitting. Therefore, we will only use evaluate for the test data."
      ],
      "metadata": {
        "id": "LL0Qq5msPkat"
      }
    },
    {
      "cell_type": "code",
      "source": [
        "test_loss, test_accuracy = model.evaluate(X_test, y_test)\n",
        "\n",
        "print(f'Test Loss: {test_loss:.4f}')\n",
        "print(f'Test Accuracy: {test_accuracy:.4f}')"
      ],
      "metadata": {
        "colab": {
          "base_uri": "https://localhost:8080/"
        },
        "id": "OsIsHv8tOesa",
        "outputId": "2ac65294-edf9-4b8a-8c1e-fe0857435fd8"
      },
      "execution_count": null,
      "outputs": [
        {
          "output_type": "stream",
          "name": "stdout",
          "text": [
            "2/2 [==============================] - 0s 8ms/step - loss: 0.0082 - accuracy: 1.0000\n",
            "Test Loss: 0.0082\n",
            "Test Accuracy: 1.0000\n"
          ]
        }
      ]
    },
    {
      "cell_type": "markdown",
      "source": [
        "It looks good. We have 100% accuracy, loss fit the val loss and training loss and it is pretty low. The model doesn't seem to be overfitted and it predicts perfectly for our data, which is unusual but as we cleared our dataset, losses and accuracy match for test, validation and training data, we should be safe with our model to use. Unfurtunately we don't have entire new dataset to test it on now, but if it would overfit, we should systematicly reduce the number of epochs. In this case even 3 epochs would give us pretty good model. Yet we should always aim for perfection and it looks like we got a perfect model here (which should be now tested on a representative dataset to ensure that it does not overfit to IPO dataset we used for training."
      ],
      "metadata": {
        "id": "B60mHbFvQC9_"
      }
    }
  ]
}